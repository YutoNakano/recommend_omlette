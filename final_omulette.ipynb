{
 "cells": [
  {
   "cell_type": "code",
   "execution_count": 1,
   "metadata": {},
   "outputs": [],
   "source": [
    "from bs4 import BeautifulSoup\n",
    "from selenium import webdriver\n",
    "from selenium.webdriver.chrome.options import Options\n",
    "import json\n",
    "from selenium.webdriver.support.ui import WebDriverWait\n",
    "from selenium.webdriver.support import expected_conditions as EC\n",
    "from selenium.webdriver.common.by import By"
   ]
  },
  {
   "cell_type": "code",
   "execution_count": 2,
   "metadata": {},
   "outputs": [],
   "source": [
    "def search(place_name):\n",
    "    options = Options()\n",
    "    options.add_argument('--headless')\n",
    "    driver = webdriver.Chrome(options=options)\n",
    "\n",
    "    driver.get(\"https://tabelog.com/\")\n",
    "    WebDriverWait(driver, 10).until(\n",
    "  EC.title_contains(\"食べログ\")\n",
    ")\n",
    " \n",
    "    input_elem = driver.find_element_by_name(\"sa\")\n",
    "    input_elem.send_keys(place_name)\n",
    "    \n",
    "\n",
    "    \n",
    "    input_elem.click()\n",
    "  \n",
    "    elem_search_word = driver.find_element_by_name(\"sk\")\n",
    "\n",
    "    elem_search_word.send_keys(\"オムライス\")\n",
    "\n",
    "    elem_search_btn = driver.find_element_by_id(\"js-global-search-btn\")\n",
    "    \n",
    "    \n",
    "    elem_search_btn.click()\n",
    "    page_source = driver.page_source\n",
    "\n",
    "    return page_source"
   ]
  },
  {
   "cell_type": "code",
   "execution_count": 5,
   "metadata": {},
   "outputs": [
    {
     "name": "stdout",
     "output_type": "stream",
     "text": [
      "{}\n",
      "https://tabelog.com/tokyo/A1305/A130501/13023112/\n",
      "https://tblg.k-img.com/restaurant/images/Rvw/93547/150x150_square_93547721.jpg\n",
      "https://tabelog.com/tokyo/A1305/A130501/13003941/\n",
      "https://tblg.k-img.com/restaurant/images/Rvw/91432/150x150_square_91432266.jpg\n",
      "https://tabelog.com/tokyo/A1305/A130501/13109505/\n",
      "https://tblg.k-img.com/restaurant/images/Rvw/65677/150x150_square_65677417.jpg\n",
      "https://tabelog.com/tokyo/A1305/A130501/13204848/\n",
      "https://tblg.k-img.com/restaurant/images/Rvw/80703/150x150_square_80703123.jpg\n",
      "https://tabelog.com/tokyo/A1305/A130501/13003917/\n",
      "https://tblg.k-img.com/restaurant/images/Rvw/60211/150x150_square_60211935.jpg\n",
      "https://tabelog.com/tokyo/A1305/A130501/13018267/\n",
      "https://tblg.k-img.com/restaurant/images/Rvw/90149/150x150_square_90149525.jpg\n",
      "https://tabelog.com/tokyo/A1322/A132202/13080905/\n",
      "https://tblg.k-img.com/restaurant/images/Rvw/97064/150x150_square_97064798.jpg\n",
      "https://tabelog.com/tokyo/A1305/A130501/13026350/\n",
      "https://tblg.k-img.com/restaurant/images/Rvw/39213/150x150_square_39213908.jpg\n",
      "https://tabelog.com/tokyo/A1305/A130501/13132815/\n",
      "https://tblg.k-img.com/restaurant/images/Rvw/91328/150x150_square_91328399.jpg\n",
      "https://tabelog.com/tokyo/A1305/A130501/13003961/\n",
      "https://tblg.k-img.com/restaurant/images/Rvw/73306/150x150_square_73306115.jpg\n",
      "https://tabelog.com/tokyo/A1305/A130501/13122131/\n",
      "https://tblg.k-img.com/restaurant/images/Rvw/56727/150x150_square_56727558.jpg\n"
     ]
    },
    {
     "data": {
      "text/plain": [
       "{'name': '神田たまごけん 東池袋店',\n",
       " 'url': 'https://tabelog.com/tokyo/A1305/A130501/13122131/',\n",
       " 'img': 'https://tblg.k-img.com/restaurant/images/Rvw/56727/150x150_square_56727558.jpg'}"
      ]
     },
     "execution_count": 5,
     "metadata": {},
     "output_type": "execute_result"
    }
   ],
   "source": [
    "def extraction(page_source):\n",
    "    bs = BeautifulSoup(page_source, \"html.parser\")\n",
    "\n",
    "    div_item_list = bs.select(\"ul.js-rstlist-info\")\n",
    "    \n",
    "#for文が回らない\n",
    "    for item_list in div_item_list[0].select(\"div.list-rst__wrap\"):\n",
    "       \n",
    "        img_tags = item_list.select(\"img.js-cassette-img\")\n",
    "        \n",
    "        name = item_list.find('a').text\n",
    "        \n",
    "        omulette_restaurant[\"name\"] = name\n",
    "        \n",
    "        item_name_tags = item_list.select(\"a.list-rst__rst-name-target\")\n",
    "        url = item_name_tags[0].get(\"href\")\n",
    "        print(url)\n",
    "        omulette_restaurant[\"url\"] = url\n",
    "        \n",
    "        img = img_tags[0].get(\"data-original\")\n",
    "        print(img)\n",
    "        omulette_restaurant[\"img\"] = img\n",
    "    \n",
    "#変数のimg,name,urlはループされている\n",
    "\n",
    "#辞書作成の時に問題あり\n",
    "        \n",
    "        \n",
    "        \n",
    "        \n",
    "\n",
    "    return omulette_restaurant\n",
    "\n",
    "\n",
    "omulette_restaurant = {}\n",
    "print(omulette_restaurant)\n",
    "\n",
    "extraction(search(\"池袋\"))"
   ]
  },
  {
   "cell_type": "code",
   "execution_count": 4,
   "metadata": {},
   "outputs": [],
   "source": [
    "from flask import Flask, render_template, request\n",
    "\n",
    "\n",
    "app = Flask(__name__)\n",
    "\n",
    "\n",
    "@app.route(\"/\", methods=['POST', 'GET'])\n",
    "def send_text():\n",
    "    if request.method == \"GET\":\n",
    "        return render_template('index.html')\n"
   ]
  },
  {
   "cell_type": "code",
   "execution_count": null,
   "metadata": {},
   "outputs": [
    {
     "name": "stdout",
     "output_type": "stream",
     "text": [
      " * Serving Flask app \"__main__\" (lazy loading)\n",
      " * Environment: production\n",
      "   WARNING: Do not use the development server in a production environment.\n",
      "   Use a production WSGI server instead.\n",
      " * Debug mode: off\n"
     ]
    },
    {
     "name": "stderr",
     "output_type": "stream",
     "text": [
      " * Running on http://127.0.0.1:5000/ (Press CTRL+C to quit)\n",
      "127.0.0.1 - - [07/Dec/2018 18:47:44] \"GET / HTTP/1.1\" 200 -\n",
      "127.0.0.1 - - [07/Dec/2018 18:47:54] \"POST /display HTTP/1.1\" 200 -\n"
     ]
    },
    {
     "name": "stdout",
     "output_type": "stream",
     "text": [
      "{'img': 'https://tblg.k-img.com/restaurant/images/Rvw/56727/150x150_square_56727558.jpg', 'url': 'https://tabelog.com/tokyo/A1305/A130501/13122131/', 'name': '神田たまごけん 東池袋店'}\n"
     ]
    }
   ],
   "source": [
    "@app.route(\"/display\",methods=['POST','GET'])\n",
    "def index():\n",
    "    s = \"レストラン\"\n",
    "    location = request.form['location']\n",
    "    extraction(search(location))\n",
    "    restaurants = omulette_restaurant\n",
    "\n",
    "    print(restaurants)\n",
    "    \n",
    "    return render_template('index.html', s=s, restaurants=restaurants)\n",
    "    \n",
    "\n",
    "app.run()"
   ]
  },
  {
   "cell_type": "code",
   "execution_count": null,
   "metadata": {},
   "outputs": [],
   "source": []
  },
  {
   "cell_type": "code",
   "execution_count": null,
   "metadata": {},
   "outputs": [],
   "source": []
  }
 ],
 "metadata": {
  "kernelspec": {
   "display_name": "Python 3",
   "language": "python",
   "name": "python3"
  },
  "language_info": {
   "codemirror_mode": {
    "name": "ipython",
    "version": 3
   },
   "file_extension": ".py",
   "mimetype": "text/x-python",
   "name": "python",
   "nbconvert_exporter": "python",
   "pygments_lexer": "ipython3",
   "version": "3.7.0"
  }
 },
 "nbformat": 4,
 "nbformat_minor": 2
}
