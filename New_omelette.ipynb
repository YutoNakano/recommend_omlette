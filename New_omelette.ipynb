{
 "cells": [
  {
   "cell_type": "markdown",
   "metadata": {},
   "source": [
    "#＃jsonなし"
   ]
  },
  {
   "cell_type": "code",
   "execution_count": 9,
   "metadata": {},
   "outputs": [],
   "source": [
    "from bs4 import BeautifulSoup\n",
    "from selenium import webdriver\n",
    "from selenium.webdriver.chrome.options import Options\n",
    "import json\n",
    "from selenium.webdriver.support.ui import WebDriverWait\n",
    "from selenium.webdriver.support import expected_conditions as EC\n",
    "from selenium.webdriver.common.by import By\n",
    "from collections import OrderedDict"
   ]
  },
  {
   "cell_type": "code",
   "execution_count": 10,
   "metadata": {},
   "outputs": [],
   "source": [
    "def search(place_name):\n",
    "    options = Options()\n",
    "    options.add_argument('--headless')\n",
    "    driver = webdriver.Chrome(options=options)\n",
    "\n",
    "    driver.get(\"https://tabelog.com/\")\n",
    "    WebDriverWait(driver, 10).until(\n",
    "  EC.title_contains(\"食べログ\")\n",
    ")\n",
    " \n",
    "    input_elem = driver.find_element_by_name(\"sa\")\n",
    "    input_elem.send_keys(place_name)\n",
    "    \n",
    "\n",
    "    \n",
    "    input_elem.click()\n",
    "  \n",
    "    elem_search_word = driver.find_element_by_name(\"sk\")\n",
    "\n",
    "    elem_search_word.send_keys(\"オムライス\")\n",
    "\n",
    "    elem_search_btn = driver.find_element_by_id(\"js-global-search-btn\")\n",
    "    \n",
    "    \n",
    "    elem_search_btn.click()\n",
    "    page_source = driver.page_source\n",
    "\n",
    "    return page_source"
   ]
  },
  {
   "cell_type": "code",
   "execution_count": 14,
   "metadata": {},
   "outputs": [],
   "source": [
    "def extraction(page_source):\n",
    "    omulette_list = []\n",
    "    bs = BeautifulSoup(page_source, \"html.parser\")\n",
    "    div_item_list = bs.select(\"ul.js-rstlist-info\")\n",
    "    for item_list in div_item_list[0].select(\"div.list-rst__wrap\"):\n",
    "        img_tags = item_list.select(\"img.js-cassette-img\")\n",
    "        \n",
    "        img = img_tags[0].get(\"data-original\")\n",
    "        \n",
    "        item_name_tags = item_list.select(\"a.list-rst__rst-name-target\")\n",
    "        url = item_name_tags[0].get(\"href\")\n",
    "       \n",
    "        name = item_list.find('a').text\n",
    "        \n",
    "        omulette={\"name\": name, \"img\": img, \"restaurant\": url}\n",
    "        omulette_list.append(omulette)\n",
    "    return omulette_list\n",
    "\n",
    "\n",
    "o = extraction(search('渋谷'))\n",
    "\n",
    "fw = open(\"main.json\",'w')\n",
    "json.dump(o,fw)"
   ]
  },
  {
   "cell_type": "code",
   "execution_count": 7,
   "metadata": {},
   "outputs": [
    {
     "ename": "NameError",
     "evalue": "name 'search' is not defined",
     "output_type": "error",
     "traceback": [
      "\u001b[0;31m---------------------------------------------------------------------------\u001b[0m",
      "\u001b[0;31mNameError\u001b[0m                                 Traceback (most recent call last)",
      "\u001b[0;32m<ipython-input-7-0ac86bbdd8ad>\u001b[0m in \u001b[0;36m<module>\u001b[0;34m\u001b[0m\n\u001b[1;32m      1\u001b[0m \u001b[0;32mfrom\u001b[0m \u001b[0mflask\u001b[0m \u001b[0;32mimport\u001b[0m \u001b[0mFlask\u001b[0m\u001b[0;34m,\u001b[0m \u001b[0mrender_template\u001b[0m\u001b[0;34m,\u001b[0m \u001b[0mrequest\u001b[0m\u001b[0;34m,\u001b[0m \u001b[0mredirect\u001b[0m\u001b[0;34m\u001b[0m\u001b[0m\n\u001b[0;32m----> 2\u001b[0;31m \u001b[0mextraction\u001b[0m\u001b[0;34m(\u001b[0m\u001b[0msearch\u001b[0m\u001b[0;34m(\u001b[0m\u001b[0;34m'渋谷'\u001b[0m\u001b[0;34m)\u001b[0m\u001b[0;34m)\u001b[0m\u001b[0;34m\u001b[0m\u001b[0m\n\u001b[0m\u001b[1;32m      3\u001b[0m \u001b[0;34m\u001b[0m\u001b[0m\n\u001b[1;32m      4\u001b[0m \u001b[0mapp\u001b[0m \u001b[0;34m=\u001b[0m \u001b[0mFlask\u001b[0m\u001b[0;34m(\u001b[0m\u001b[0m__name__\u001b[0m\u001b[0;34m)\u001b[0m\u001b[0;34m\u001b[0m\u001b[0m\n\u001b[1;32m      5\u001b[0m \u001b[0;34m\u001b[0m\u001b[0m\n",
      "\u001b[0;31mNameError\u001b[0m: name 'search' is not defined"
     ]
    }
   ],
   "source": [
    "from flask import Flask, render_template, request, redirect\n",
    "app = Flask(__name__)\n",
    "\n",
    "\n",
    "@app.route(\"/\", methods=['POST', 'GET'])\n",
    "def send_text():\n",
    "    if request.method == \"GET\":\n",
    "        return render_template('index.html')\n"
   ]
  },
  {
   "cell_type": "code",
   "execution_count": 1,
   "metadata": {},
   "outputs": [
    {
     "ename": "NameError",
     "evalue": "name 'app' is not defined",
     "output_type": "error",
     "traceback": [
      "\u001b[0;31m---------------------------------------------------------------------------\u001b[0m",
      "\u001b[0;31mNameError\u001b[0m                                 Traceback (most recent call last)",
      "\u001b[0;32m<ipython-input-1-790f6b60867d>\u001b[0m in \u001b[0;36m<module>\u001b[0;34m\u001b[0m\n\u001b[0;32m----> 1\u001b[0;31m \u001b[0;34m@\u001b[0m\u001b[0mapp\u001b[0m\u001b[0;34m.\u001b[0m\u001b[0mroute\u001b[0m\u001b[0;34m(\u001b[0m\u001b[0;34m\"/display\"\u001b[0m\u001b[0;34m,\u001b[0m\u001b[0mmethods\u001b[0m\u001b[0;34m=\u001b[0m\u001b[0;34m[\u001b[0m\u001b[0;34m'POST'\u001b[0m\u001b[0;34m,\u001b[0m\u001b[0;34m'GET'\u001b[0m\u001b[0;34m]\u001b[0m\u001b[0;34m)\u001b[0m\u001b[0;34m\u001b[0m\u001b[0m\n\u001b[0m\u001b[1;32m      2\u001b[0m \u001b[0;32mdef\u001b[0m \u001b[0mindex\u001b[0m\u001b[0;34m(\u001b[0m\u001b[0;34m)\u001b[0m\u001b[0;34m:\u001b[0m\u001b[0;34m\u001b[0m\u001b[0m\n\u001b[1;32m      3\u001b[0m     \u001b[0ms\u001b[0m \u001b[0;34m=\u001b[0m \u001b[0;34m\"レストラン\"\u001b[0m\u001b[0;34m\u001b[0m\u001b[0m\n\u001b[1;32m      4\u001b[0m     \u001b[0mlocation\u001b[0m \u001b[0;34m=\u001b[0m \u001b[0mrequest\u001b[0m\u001b[0;34m.\u001b[0m\u001b[0mform\u001b[0m\u001b[0;34m[\u001b[0m\u001b[0;34m'location'\u001b[0m\u001b[0;34m]\u001b[0m\u001b[0;34m\u001b[0m\u001b[0m\n\u001b[1;32m      5\u001b[0m     \u001b[0mextraction\u001b[0m\u001b[0;34m(\u001b[0m\u001b[0msearch\u001b[0m\u001b[0;34m(\u001b[0m\u001b[0mlocation\u001b[0m\u001b[0;34m)\u001b[0m\u001b[0;34m)\u001b[0m\u001b[0;34m\u001b[0m\u001b[0m\n",
      "\u001b[0;31mNameError\u001b[0m: name 'app' is not defined"
     ]
    }
   ],
   "source": [
    "@app.route(\"/display\",methods=['POST','GET'])\n",
    "def index():\n",
    "    s = \"レストラン\"\n",
    "    location = request.form['location']\n",
    "    extraction(search(location))\n",
    "    restaurants = omulette_restaurant\n",
    "    images = omulette_img\n",
    "    names = omulette_name\n",
    "    \n",
    "    return render_template('index.html', s=s, restaurants=restaurants, images=images, names=names)\n",
    "    \n",
    "\n",
    "app.run()"
   ]
  },
  {
   "cell_type": "code",
   "execution_count": null,
   "metadata": {},
   "outputs": [],
   "source": []
  },
  {
   "cell_type": "code",
   "execution_count": null,
   "metadata": {},
   "outputs": [],
   "source": []
  },
  {
   "cell_type": "code",
   "execution_count": null,
   "metadata": {},
   "outputs": [],
   "source": []
  },
  {
   "cell_type": "code",
   "execution_count": null,
   "metadata": {},
   "outputs": [],
   "source": []
  },
  {
   "cell_type": "code",
   "execution_count": null,
   "metadata": {
    "scrolled": false
   },
   "outputs": [],
   "source": []
  },
  {
   "cell_type": "code",
   "execution_count": null,
   "metadata": {},
   "outputs": [],
   "source": [
    "#jsonあり"
   ]
  },
  {
   "cell_type": "code",
   "execution_count": 1,
   "metadata": {},
   "outputs": [],
   "source": [
    "from bs4 import BeautifulSoup\n",
    "from selenium import webdriver\n",
    "from selenium.webdriver.chrome.options import Options\n",
    "import time\n",
    "import json\n",
    "from selenium.webdriver.support.ui import WebDriverWait\n",
    "from selenium.webdriver.support import expected_conditions as EC\n",
    "from selenium.webdriver.common.by import By"
   ]
  },
  {
   "cell_type": "code",
   "execution_count": 2,
   "metadata": {},
   "outputs": [],
   "source": [
    "def search(place_name):\n",
    "    options = Options()\n",
    "    #options.add_argument('--headless')\n",
    "    driver = webdriver.Chrome(options=options)\n",
    "\n",
    "    driver.get(\"https://tabelog.com/\")\n",
    "    WebDriverWait(driver, 10).until(\n",
    "  EC.title_contains(\"食べログ\")\n",
    ")\n",
    " \n",
    "    input_elem = driver.find_element_by_name(\"sa\")\n",
    "    input_elem.send_keys(place_name)\n",
    "    \n",
    "\n",
    "    \n",
    "    input_elem.click()\n",
    "  \n",
    "    elem_search_word = driver.find_element_by_name(\"sk\")\n",
    "\n",
    "    elem_search_word.send_keys(\"オムライス\")\n",
    "\n",
    "    elem_search_btn = driver.find_element_by_id(\"js-global-search-btn\")\n",
    "    \n",
    "    \n",
    "    elem_search_btn.click()\n",
    "    page_source = driver.page_source\n",
    "\n",
    "    return page_source"
   ]
  },
  {
   "cell_type": "code",
   "execution_count": 3,
   "metadata": {},
   "outputs": [],
   "source": [
    "def extraction(page_source):\n",
    "    bs = BeautifulSoup(page_source, \"html.parser\")\n",
    "\n",
    "    div_item_list = bs.select(\"ul.js-rstlist-info\")\n",
    "    \n",
    "    for item_list in div_item_list[0].select(\"div.list-rst__wrap\"):\n",
    "        img_tags = item_list.select(\"img.js-cassette-img\")\n",
    "        \n",
    "        img = img_tags[0].get(\"data-original\")\n",
    "#取得したデータを直接辞書に追加\n",
    "        omulette_img.append(img)\n",
    "        item_name_tags = item_list.select(\"a.list-rst__rst-name-target\")\n",
    "        i = item_name_tags[0].get(\"href\")\n",
    "        omulette_restaurant.append(i)\n",
    "        restaurant_name = item_list.find('a').text\n",
    "        omulette_name.append(restaurant_name)\n",
    "\n",
    "    return omulette_restaurant, omulette_img, omulette_name, \n"
   ]
  },
  {
   "cell_type": "code",
   "execution_count": 4,
   "metadata": {},
   "outputs": [
    {
     "ename": "NameError",
     "evalue": "name 'i' is not defined",
     "output_type": "error",
     "traceback": [
      "\u001b[0;31m---------------------------------------------------------------------------\u001b[0m",
      "\u001b[0;31mNameError\u001b[0m                                 Traceback (most recent call last)",
      "\u001b[0;32m<ipython-input-4-a2959a0f6d13>\u001b[0m in \u001b[0;36m<module>\u001b[0;34m\u001b[0m\n\u001b[1;32m      1\u001b[0m \u001b[0;34m\u001b[0m\u001b[0m\n\u001b[1;32m      2\u001b[0m \u001b[0mkeys\u001b[0m \u001b[0;34m=\u001b[0m \u001b[0;34m[\u001b[0m\u001b[0;34m]\u001b[0m\u001b[0;34m\u001b[0m\u001b[0m\n\u001b[0;32m----> 3\u001b[0;31m \u001b[0momulette_name\u001b[0m \u001b[0;34m=\u001b[0m \u001b[0;34m{\u001b[0m\u001b[0;36m1\u001b[0m\u001b[0;34m:\u001b[0m \u001b[0mi\u001b[0m\u001b[0;34m}\u001b[0m\u001b[0;34m\u001b[0m\u001b[0m\n\u001b[0m\u001b[1;32m      4\u001b[0m \u001b[0momulette_restaurant\u001b[0m \u001b[0;34m=\u001b[0m \u001b[0;34m[\u001b[0m\u001b[0;34m]\u001b[0m\u001b[0;34m\u001b[0m\u001b[0m\n\u001b[1;32m      5\u001b[0m \u001b[0momulette_img\u001b[0m \u001b[0;34m=\u001b[0m \u001b[0;34m[\u001b[0m\u001b[0;34m]\u001b[0m\u001b[0;34m\u001b[0m\u001b[0m\n",
      "\u001b[0;31mNameError\u001b[0m: name 'i' is not defined"
     ]
    }
   ],
   "source": [
    "\n",
    "keys = []\n",
    "omulette_name = []\n",
    "omulette_restaurant = []\n",
    "omulette_img = []"
   ]
  },
  {
   "cell_type": "code",
   "execution_count": 5,
   "metadata": {},
   "outputs": [],
   "source": [
    "from flask import Flask, render_template, request, redirect\n",
    "\n",
    "\n",
    "app = Flask(__name__)\n",
    "\n",
    "\n",
    "@app.route(\"/\", methods=['POST', 'GET'])\n",
    "def send_text():\n",
    "    if request.method == \"GET\":\n",
    "        message = request.form\n",
    "    return render_template('index.html')\n",
    "\n",
    "\n",
    "\n",
    "#a.apend(request.form[text_name])\n",
    "\n",
    "\n"
   ]
  },
  {
   "cell_type": "code",
   "execution_count": null,
   "metadata": {},
   "outputs": [
    {
     "name": "stdout",
     "output_type": "stream",
     "text": [
      " * Serving Flask app \"__main__\" (lazy loading)\n",
      " * Environment: production\n",
      "   WARNING: Do not use the development server in a production environment.\n",
      "   Use a production WSGI server instead.\n",
      " * Debug mode: off\n"
     ]
    },
    {
     "name": "stderr",
     "output_type": "stream",
     "text": [
      " * Running on http://127.0.0.1:5000/ (Press CTRL+C to quit)\n",
      "127.0.0.1 - - [07/Dec/2018 17:46:46] \"GET / HTTP/1.1\" 200 -\n",
      "[2018-12-07 17:46:58,588] ERROR in app: Exception on /display [POST]\n",
      "Traceback (most recent call last):\n",
      "  File \"/usr/local/lib/python3.7/site-packages/flask/app.py\", line 2292, in wsgi_app\n",
      "    response = self.full_dispatch_request()\n",
      "  File \"/usr/local/lib/python3.7/site-packages/flask/app.py\", line 1815, in full_dispatch_request\n",
      "    rv = self.handle_user_exception(e)\n",
      "  File \"/usr/local/lib/python3.7/site-packages/flask/app.py\", line 1718, in handle_user_exception\n",
      "    reraise(exc_type, exc_value, tb)\n",
      "  File \"/usr/local/lib/python3.7/site-packages/flask/_compat.py\", line 35, in reraise\n",
      "    raise value\n",
      "  File \"/usr/local/lib/python3.7/site-packages/flask/app.py\", line 1813, in full_dispatch_request\n",
      "    rv = self.dispatch_request()\n",
      "  File \"/usr/local/lib/python3.7/site-packages/flask/app.py\", line 1799, in dispatch_request\n",
      "    return self.view_functions[rule.endpoint](**req.view_args)\n",
      "  File \"<ipython-input-6-c1220d4cd728>\", line 18, in index\n",
      "    json.dump(dic,f)\n",
      "UnboundLocalError: local variable 'dic' referenced before assignment\n",
      "127.0.0.1 - - [07/Dec/2018 17:46:58] \"POST /display HTTP/1.1\" 500 -\n"
     ]
    }
   ],
   "source": [
    "\n",
    "\n",
    "@app.route(\"/display\",methods=['POST','GET'])\n",
    "def index():\n",
    "    s = \"レストラン\"\n",
    "    location = request.form['location']\n",
    "    extraction(search(location))\n",
    "    \n",
    "    #辞書化\n",
    "    a = dict.fromkeys(omulette_name,omulette_img)\n",
    "    \n",
    "    \n",
    "    \n",
    "    \n",
    "    #json書き込み\n",
    "    f = open('main.json','w')\n",
    "\n",
    "    json.dump(dic,f)\n",
    "    f.close()\n",
    "\n",
    "    f = open('main.json','r')\n",
    "\n",
    "\n",
    "    jsonData = json.load(f)\n",
    "    \n",
    "    restaurants = jsonData.keys()\n",
    "    images = jsonData.values()\n",
    "    names = jsonData.values()\n",
    "    f.close()\n",
    "\n",
    "    \n",
    "    \n",
    "    values = zip(omulette_name, omulette_restaurant, omulette_img)\n",
    "    dic = dict(zip(keys, values))\n",
    "    print(keys)\n",
    "    print(omulette_name)\n",
    "    print(dic)\n",
    "    restaurants = []\n",
    "    restaurants\n",
    "\n",
    "    return render_template('index.html', s=s, restaurants=restaurants)\n",
    "    \n",
    "\n",
    "\n",
    "app.run()\n",
    "    \n",
    "\n",
    "\n",
    "\n",
    "\n",
    "\n"
   ]
  },
  {
   "cell_type": "code",
   "execution_count": null,
   "metadata": {},
   "outputs": [],
   "source": []
  },
  {
   "cell_type": "code",
   "execution_count": null,
   "metadata": {},
   "outputs": [],
   "source": [
    ", restaurants=restaurants, images=images, names=names"
   ]
  },
  {
   "cell_type": "code",
   "execution_count": null,
   "metadata": {},
   "outputs": [],
   "source": []
  },
  {
   "cell_type": "code",
   "execution_count": null,
   "metadata": {},
   "outputs": [],
   "source": []
  },
  {
   "cell_type": "code",
   "execution_count": null,
   "metadata": {},
   "outputs": [],
   "source": [
    "from flask import Flask,render_template\n",
    "\n",
    "app = Flask(__name__)\n",
    "\n",
    "restaurants = extraction(search(location))\n",
    "@app.route(\"/\")\n",
    "def index():\n",
    "\n",
    "    return render_template('index.html', restaurants=restaurants)\n",
    "\n",
    "app.run()"
   ]
  },
  {
   "cell_type": "markdown",
   "metadata": {},
   "source": [
    "##分割ver"
   ]
  },
  {
   "cell_type": "code",
   "execution_count": 1,
   "metadata": {},
   "outputs": [],
   "source": [
    "from selenium import webdriver\n",
    "from bs4 import BeautifulSoup"
   ]
  },
  {
   "cell_type": "code",
   "execution_count": 2,
   "metadata": {},
   "outputs": [],
   "source": [
    "def search(place_name):\n",
    "    \n",
    "    driver = webdriver.Chrome()\n",
    "    driver.get(\"https://tabelog.com/\")\n",
    "    input_elem = driver.find_element_by_name(\"sa\")\n",
    "    input_elem.send_keys(place_name)\n",
    "    input_elem.click()\n",
    "\n",
    "    elem_search_word = driver.find_element_by_name(\"sk\")\n",
    "    elem_search_word.send_keys(\"オムライス\")\n",
    "    elem_search_btn = driver.find_element_by_id(\"js-global-search-btn\")\n",
    "    elem_search_btn.click()\n",
    "    page_source = driver.page_source\n",
    "    \n",
    "    return page_source"
   ]
  },
  {
   "cell_type": "code",
   "execution_count": 3,
   "metadata": {},
   "outputs": [],
   "source": [
    "def extraction_name(page_source):\n",
    "    bs = BeautifulSoup(page_source, \"html.parser\")\n",
    "    \n",
    "\n",
    "    div_item_list = bs.select(\"ul.js-rstlist-info\")\n",
    "    \n",
    "    for item_list in div_item_list[0].select(\"div.list-rst__wrap\"):          \n",
    "        item_name_tags = item_list.select(\"a.list-rst__rst-name-target\")\n",
    "        name = item_name_tags[0].get(\"href\")\n",
    "        omulette_restaurant.append(name)\n",
    "        \n",
    "    return omulette_restaurant"
   ]
  },
  {
   "cell_type": "code",
   "execution_count": 4,
   "metadata": {},
   "outputs": [],
   "source": [
    "def extraction_img(page_source):\n",
    "    bs = BeautifulSoup(page_source, \"html.parser\")\n",
    "    \n",
    "\n",
    "    div_item_list = bs.select(\"ul.js-rstlist-info\")\n",
    "    \n",
    "    for item_list in div_item_list[0].select(\"div.list-rst__wrap\"):\n",
    "        img_tags = item_list.select(\"img.js-cassette-img\")\n",
    "        img = img_tags[0].get(\"src\")\n",
    "        omulette_img.append(img)      \n",
    "        \n",
    "    return omulette_img"
   ]
  },
  {
   "cell_type": "code",
   "execution_count": 5,
   "metadata": {},
   "outputs": [
    {
     "name": "stdout",
     "output_type": "stream",
     "text": [
      "五反田\n"
     ]
    }
   ],
   "source": [
    "omulette_restaurant = []\n",
    "omulette_img = []\n",
    "\n",
    "location=input()\n",
    "\n"
   ]
  },
  {
   "cell_type": "code",
   "execution_count": null,
   "metadata": {},
   "outputs": [
    {
     "name": "stdout",
     "output_type": "stream",
     "text": [
      " * Serving Flask app \"__main__\" (lazy loading)\n",
      " * Environment: production\n",
      "   WARNING: Do not use the development server in a production environment.\n",
      "   Use a production WSGI server instead.\n",
      " * Debug mode: off\n"
     ]
    },
    {
     "name": "stderr",
     "output_type": "stream",
     "text": [
      " * Running on http://127.0.0.1:5000/ (Press CTRL+C to quit)\n",
      "127.0.0.1 - - [23/Nov/2018 22:50:24] \"GET / HTTP/1.1\" 200 -\n",
      "127.0.0.1 - - [23/Nov/2018 22:50:24] \"GET /static/style.css HTTP/1.1\" 404 -\n",
      "127.0.0.1 - - [23/Nov/2018 22:50:32] \"GET / HTTP/1.1\" 200 -\n",
      "127.0.0.1 - - [23/Nov/2018 22:50:32] \"GET /static/style.css HTTP/1.1\" 404 -\n"
     ]
    }
   ],
   "source": [
    "from flask import Flask,render_template\n",
    "\n",
    "app = Flask(__name__)\n",
    "\n",
    "restaurant = extraction_name(search(location))\n",
    "img = extraction_img(search(location))\n",
    "@app.route(\"/\")\n",
    "def index():\n",
    "\n",
    "    return render_template('index.html', restaurant=restaurant,img=img)\n",
    "\n",
    "app.run()"
   ]
  },
  {
   "cell_type": "code",
   "execution_count": null,
   "metadata": {},
   "outputs": [],
   "source": []
  },
  {
   "cell_type": "code",
   "execution_count": null,
   "metadata": {},
   "outputs": [],
   "source": []
  },
  {
   "cell_type": "code",
   "execution_count": null,
   "metadata": {},
   "outputs": [],
   "source": []
  },
  {
   "cell_type": "code",
   "execution_count": null,
   "metadata": {},
   "outputs": [],
   "source": []
  },
  {
   "cell_type": "code",
   "execution_count": null,
   "metadata": {},
   "outputs": [],
   "source": []
  },
  {
   "cell_type": "code",
   "execution_count": null,
   "metadata": {},
   "outputs": [
    {
     "name": "stdout",
     "output_type": "stream",
     "text": [
      " * Serving Flask app \"__main__\" (lazy loading)\n",
      " * Environment: production\n",
      "   WARNING: Do not use the development server in a production environment.\n",
      "   Use a production WSGI server instead.\n",
      " * Debug mode: off\n"
     ]
    },
    {
     "name": "stderr",
     "output_type": "stream",
     "text": [
      " * Running on http://127.0.0.1:5000/ (Press CTRL+C to quit)\n",
      "127.0.0.1 - - [23/Nov/2018 18:44:49] \"GET / HTTP/1.1\" 200 -\n",
      "127.0.0.1 - - [23/Nov/2018 18:44:49] \"GET /static/style.css HTTP/1.1\" 404 -\n"
     ]
    }
   ],
   "source": []
  },
  {
   "cell_type": "code",
   "execution_count": 1,
   "metadata": {},
   "outputs": [
    {
     "ename": "NameError",
     "evalue": "name 'csv' is not defined",
     "output_type": "error",
     "traceback": [
      "\u001b[0;31m---------------------------------------------------------------------------\u001b[0m",
      "\u001b[0;31mNameError\u001b[0m                                 Traceback (most recent call last)",
      "\u001b[0;32m<ipython-input-1-3df803e5a1fb>\u001b[0m in \u001b[0;36m<module>\u001b[0;34m\u001b[0m\n\u001b[1;32m      1\u001b[0m \u001b[0;32mwith\u001b[0m \u001b[0mopen\u001b[0m\u001b[0;34m(\u001b[0m\u001b[0;34m'main.csv'\u001b[0m\u001b[0;34m,\u001b[0m \u001b[0mencoding\u001b[0m\u001b[0;34m=\u001b[0m\u001b[0;34m'UTF-8'\u001b[0m\u001b[0;34m)\u001b[0m \u001b[0;32mas\u001b[0m \u001b[0mf\u001b[0m\u001b[0;34m:\u001b[0m\u001b[0;34m\u001b[0m\u001b[0m\n\u001b[0;32m----> 2\u001b[0;31m     \u001b[0mreader\u001b[0m \u001b[0;34m=\u001b[0m \u001b[0mcsv\u001b[0m\u001b[0;34m.\u001b[0m\u001b[0mreader\u001b[0m\u001b[0;34m(\u001b[0m\u001b[0mf\u001b[0m\u001b[0;34m)\u001b[0m\u001b[0;34m\u001b[0m\u001b[0m\n\u001b[0m\u001b[1;32m      3\u001b[0m     \u001b[0;32mfor\u001b[0m \u001b[0mline\u001b[0m \u001b[0;32min\u001b[0m \u001b[0mf\u001b[0m\u001b[0;34m:\u001b[0m\u001b[0;34m\u001b[0m\u001b[0m\n\u001b[1;32m      4\u001b[0m         \u001b[0mprint\u001b[0m\u001b[0;34m(\u001b[0m\u001b[0mline\u001b[0m\u001b[0;34m)\u001b[0m\u001b[0;34m\u001b[0m\u001b[0m\n\u001b[1;32m      5\u001b[0m         \u001b[0melements\u001b[0m \u001b[0;34m=\u001b[0m \u001b[0mline\u001b[0m\u001b[0;34m.\u001b[0m\u001b[0msplit\u001b[0m\u001b[0;34m(\u001b[0m\u001b[0;34m', '\u001b[0m\u001b[0;34m)\u001b[0m\u001b[0;34m\u001b[0m\u001b[0m\n",
      "\u001b[0;31mNameError\u001b[0m: name 'csv' is not defined"
     ]
    }
   ],
   "source": [
    "with open('main.csv', encoding='UTF-8') as f:\n",
    "    reader = csv.reader(f)\n",
    "    for line in f:\n",
    "        print(line)\n",
    "        elements = line.split(', ')\n",
    "\n",
    "        for element in elements:\n",
    "            print(element)\n"
   ]
  },
  {
   "cell_type": "code",
   "execution_count": null,
   "metadata": {},
   "outputs": [],
   "source": []
  },
  {
   "cell_type": "code",
   "execution_count": null,
   "metadata": {},
   "outputs": [],
   "source": []
  },
  {
   "cell_type": "code",
   "execution_count": null,
   "metadata": {},
   "outputs": [],
   "source": []
  },
  {
   "cell_type": "code",
   "execution_count": null,
   "metadata": {},
   "outputs": [],
   "source": [
    "    for item_list in div_item_list[0].select(\"div.list-rst__wrap\"):\n",
    "        img_tags = item_list.select(\"img.js-cassette-img\")\n",
    "        img_tag = img_tags[0]\n",
    "        # print(img_tag)\n",
    "        omulette_img.append(img_tag)      \n",
    "        \n",
    "        item_name_tags = item_list.select(\"a.list-rst__rst-name-target\")\n",
    "        item_name_tag = item_name_tags[0]\n",
    "        # print(item_name_tag)\n",
    "        omulette_restaurant.append(item_name_tag)\n",
    "        \n",
    "        \n",
    "        div_item_list = bs.select(\"ul.js-rstlist-info\")\n",
    "    return omulette_restaurant,omulette_img\n",
    "    \n",
    "\n",
    "extraction()"
   ]
  },
  {
   "cell_type": "code",
   "execution_count": 2,
   "metadata": {},
   "outputs": [
    {
     "name": "stdout",
     "output_type": "stream",
     "text": [
      "Dining Bar ROOT\n",
      "\n",
      "レストラン DEMI\n",
      "\n",
      "オムトラック 神泉駅北口商店街\n",
      "\n",
      "卵と私 渋谷八番街店\n",
      "\n",
      "ポムの樹 渋谷スペイン坂店\n",
      "\n",
      "ラケル 宮益坂店\n",
      "\n"
     ]
    }
   ],
   "source": [
    "with open('main.csv', encoding='UTF-8') as f:\n",
    "    reader = csv.reader(f)\n",
    "    for line in f:\n",
    "        elements = line.split(', ')\n",
    "        for element in elements:\n",
    "             print(element)\n",
    "        \n",
    "    "
   ]
  },
  {
   "cell_type": "code",
   "execution_count": null,
   "metadata": {},
   "outputs": [
    {
     "name": "stdout",
     "output_type": "stream",
     "text": [
      " * Serving Flask app \"__main__\" (lazy loading)\n",
      " * Environment: production\n",
      "   WARNING: Do not use the development server in a production environment.\n",
      "   Use a production WSGI server instead.\n",
      " * Debug mode: off\n"
     ]
    },
    {
     "name": "stderr",
     "output_type": "stream",
     "text": [
      " * Running on http://127.0.0.1:5000/ (Press CTRL+C to quit)\n",
      "127.0.0.1 - - [23/Nov/2018 17:05:32] \"GET / HTTP/1.1\" 200 -\n",
      "127.0.0.1 - - [23/Nov/2018 17:05:32] \"GET /static/style.css HTTP/1.1\" 404 -\n",
      "127.0.0.1 - - [23/Nov/2018 17:05:32] \"GET /favicon.ico HTTP/1.1\" 404 -\n",
      "127.0.0.1 - - [23/Nov/2018 17:06:24] \"GET / HTTP/1.1\" 200 -\n",
      "127.0.0.1 - - [23/Nov/2018 17:06:24] \"GET /static/style.css HTTP/1.1\" 404 -\n"
     ]
    }
   ],
   "source": [
    "from flask import Flask,render_template\n",
    "\n",
    "app = Flask(__name__)\n",
    "\n",
    "\n",
    "@app.route(\"/\")\n",
    "def index():\n",
    "\n",
    "    return render_template('index.html', restaurants=element,images=omulette_img)\n",
    "\n",
    "app.run()"
   ]
  },
  {
   "cell_type": "markdown",
   "metadata": {},
   "source": [
    "##クラス ver"
   ]
  },
  {
   "cell_type": "code",
   "execution_count": 4,
   "metadata": {},
   "outputs": [
    {
     "data": {
      "text/plain": [
       "([<a class=\"list-rst__rst-name-target cpy-rst-name\" data-list-dest=\"item_top\" href=\"https://tabelog.com/tokyo/A1305/A130501/13023112/\" target=\"_blank\">66DINING 六本木六丁目食堂 池袋東武店</a>,\n",
       "  <a class=\"list-rst__rst-name-target cpy-rst-name\" data-list-dest=\"item_top\" href=\"https://tabelog.com/tokyo/A1305/A130501/13018267/\" target=\"_blank\">ラケル 池袋東口店</a>,\n",
       "  <a class=\"list-rst__rst-name-target cpy-rst-name\" data-list-dest=\"item_top\" href=\"https://tabelog.com/tokyo/A1305/A130501/13122131/\" target=\"_blank\">神田たまごけん 東池袋店</a>,\n",
       "  <a class=\"list-rst__rst-name-target cpy-rst-name\" data-list-dest=\"item_top\" href=\"https://tabelog.com/tokyo/A1305/A130501/13132815/\" target=\"_blank\">OMS</a>,\n",
       "  <a class=\"list-rst__rst-name-target cpy-rst-name\" data-list-dest=\"item_top\" href=\"https://tabelog.com/tokyo/A1305/A130501/13204848/\" target=\"_blank\">星乃珈琲店 池袋東武ホープセンター店</a>,\n",
       "  <a class=\"list-rst__rst-name-target cpy-rst-name\" data-list-dest=\"item_top\" href=\"https://tabelog.com/tokyo/A1305/A130501/13003961/\" target=\"_blank\">卵と私 池袋サンシャイン店</a>,\n",
       "  <a class=\"list-rst__rst-name-target cpy-rst-name\" data-list-dest=\"item_top\" href=\"https://tabelog.com/tokyo/A1322/A132202/13080905/\" target=\"_blank\">グリル 百舌</a>,\n",
       "  <a class=\"list-rst__rst-name-target cpy-rst-name\" data-list-dest=\"item_top\" href=\"https://tabelog.com/tokyo/A1305/A130501/13003917/\" target=\"_blank\">キッチンABC 西池袋店</a>,\n",
       "  <a class=\"list-rst__rst-name-target cpy-rst-name\" data-list-dest=\"item_top\" href=\"https://tabelog.com/tokyo/A1305/A130501/13003941/\" target=\"_blank\">キッチン チェック</a>,\n",
       "  <a class=\"list-rst__rst-name-target cpy-rst-name\" data-list-dest=\"item_top\" href=\"https://tabelog.com/tokyo/A1305/A130501/13109505/\" target=\"_blank\">たいめいけん　 西武池袋店</a>,\n",
       "  <a class=\"list-rst__rst-name-target cpy-rst-name\" data-list-dest=\"item_top\" href=\"https://tabelog.com/tokyo/A1305/A130501/13026350/\" target=\"_blank\">キッチン Oh!Way</a>],\n",
       " [<img alt=\"66DINING 六本木六丁目食堂 池袋東武店\" class=\"js-cassette-img cpy-main-image lazy-loaded\" data-img-id=\"93547721\" data-img-index=\"0\" data-original=\"https://tblg.k-img.com/restaurant/images/Rvw/93547/150x150_square_93547721.jpg\" height=\"150\" src=\"https://tblg.k-img.com/restaurant/images/Rvw/93547/150x150_square_93547721.jpg\" width=\"150\"/>,\n",
       "  <img alt=\"ラケル 池袋東口店\" class=\"js-cassette-img cpy-main-image lazy-loaded\" data-img-id=\"90149525\" data-img-index=\"0\" data-original=\"https://tblg.k-img.com/restaurant/images/Rvw/90149/150x150_square_90149525.jpg\" height=\"150\" src=\"https://tblg.k-img.com/restaurant/images/Rvw/90149/150x150_square_90149525.jpg\" width=\"150\"/>,\n",
       "  <img alt=\"神田たまごけん 東池袋店\" class=\"js-cassette-img cpy-main-image\" data-img-id=\"56728746\" data-img-index=\"0\" data-original=\"https://tblg.k-img.com/restaurant/images/Rvw/56727/150x150_square_56727558.jpg\" height=\"150\" src=\"data:image/gif;base64,R0lGODlhAQABAIAAAAAAAP///yH5BAEAAAAALAAAAAABAAEAAAIBRAA7\" width=\"150\"/>,\n",
       "  <img alt=\"OMS\" class=\"js-cassette-img cpy-main-image\" data-img-id=\"91328399\" data-img-index=\"0\" data-original=\"https://tblg.k-img.com/restaurant/images/Rvw/91328/150x150_square_91328399.jpg\" height=\"150\" src=\"data:image/gif;base64,R0lGODlhAQABAIAAAAAAAP///yH5BAEAAAAALAAAAAABAAEAAAIBRAA7\" width=\"150\"/>,\n",
       "  <img alt=\"星乃珈琲店 池袋東武ホープセンター店\" class=\"js-cassette-img cpy-main-image\" data-img-id=\"80703123\" data-img-index=\"0\" data-original=\"https://tblg.k-img.com/restaurant/images/Rvw/80703/150x150_square_80703123.jpg\" height=\"150\" src=\"data:image/gif;base64,R0lGODlhAQABAIAAAAAAAP///yH5BAEAAAAALAAAAAABAAEAAAIBRAA7\" width=\"150\"/>,\n",
       "  <img alt=\"卵と私 池袋サンシャイン店\" class=\"js-cassette-img cpy-main-image\" data-img-id=\"73306115\" data-img-index=\"0\" data-original=\"https://tblg.k-img.com/restaurant/images/Rvw/73306/150x150_square_73306115.jpg\" height=\"150\" src=\"data:image/gif;base64,R0lGODlhAQABAIAAAAAAAP///yH5BAEAAAAALAAAAAABAAEAAAIBRAA7\" width=\"150\"/>,\n",
       "  <img alt=\"グリル 百舌\" class=\"js-cassette-img cpy-main-image\" data-img-id=\"86376074\" data-img-index=\"0\" data-original=\"https://tblg.k-img.com/restaurant/images/Rvw/86376/150x150_square_86376074.jpg\" height=\"150\" src=\"data:image/gif;base64,R0lGODlhAQABAIAAAAAAAP///yH5BAEAAAAALAAAAAABAAEAAAIBRAA7\" width=\"150\"/>,\n",
       "  <img alt=\"キッチンABC 西池袋店\" class=\"js-cassette-img cpy-main-image\" data-img-id=\"60211935\" data-img-index=\"0\" data-original=\"https://tblg.k-img.com/restaurant/images/Rvw/60211/150x150_square_60211935.jpg\" height=\"150\" src=\"data:image/gif;base64,R0lGODlhAQABAIAAAAAAAP///yH5BAEAAAAALAAAAAABAAEAAAIBRAA7\" width=\"150\"/>,\n",
       "  <img alt=\"キッチン チェック\" class=\"js-cassette-img cpy-main-image\" data-img-id=\"91432266\" data-img-index=\"0\" data-original=\"https://tblg.k-img.com/restaurant/images/Rvw/91432/150x150_square_91432266.jpg\" height=\"150\" src=\"data:image/gif;base64,R0lGODlhAQABAIAAAAAAAP///yH5BAEAAAAALAAAAAABAAEAAAIBRAA7\" width=\"150\"/>,\n",
       "  <img alt=\"たいめいけん　 西武池袋店\" class=\"js-cassette-img cpy-main-image\" data-img-id=\"65677417\" data-img-index=\"0\" data-original=\"https://tblg.k-img.com/restaurant/images/Rvw/65677/150x150_square_65677417.jpg\" height=\"150\" src=\"data:image/gif;base64,R0lGODlhAQABAIAAAAAAAP///yH5BAEAAAAALAAAAAABAAEAAAIBRAA7\" width=\"150\"/>,\n",
       "  <img alt=\"キッチン Oh!Way\" class=\"js-cassette-img cpy-main-image\" data-img-id=\"39213908\" data-img-index=\"0\" data-original=\"https://tblg.k-img.com/restaurant/images/Rvw/39213/150x150_square_39213908.jpg\" height=\"150\" src=\"data:image/gif;base64,R0lGODlhAQABAIAAAAAAAP///yH5BAEAAAAALAAAAAABAAEAAAIBRAA7\" width=\"150\"/>])"
      ]
     },
     "execution_count": 4,
     "metadata": {},
     "output_type": "execute_result"
    }
   ],
   "source": [
    "from selenium import webdriver\n",
    "from bs4 import BeautifulSoup\n",
    "\n",
    "omulette_restaurant = []\n",
    "omulette_img = []\n",
    "\n",
    "#食べログからページソースを取得\n",
    "class Omelette:\n",
    "    def __init__(self,name):\n",
    "        self.name = name\n",
    "    def search(self):   \n",
    "        driver = webdriver.Chrome()\n",
    "        driver.get(\"https://tabelog.com/\")\n",
    "        input_elem = driver.find_element_by_name(\"sa\")\n",
    "        input_elem.send_keys(self.name)\n",
    "        input_elem.click()\n",
    "\n",
    "        elem_search_word = driver.find_element_by_name(\"sk\")\n",
    "        elem_search_word.send_keys(\"オムライス\")\n",
    "        elem_search_btn = driver.find_element_by_id(\"js-global-search-btn\")\n",
    "        elem_search_btn.click()\n",
    "        page_source = driver.page_source\n",
    "        \n",
    "        return page_source\n",
    "\n",
    "#ページソースから店名と写真のみ抽出\n",
    "    def extraction(self):\n",
    "        page_source = search('池袋')\n",
    "        bs = BeautifulSoup(page_source, \"html.parser\")\n",
    "\n",
    "        div_item_list = bs.select(\"ul.js-rstlist-info\")\n",
    "\n",
    "        for item_list in div_item_list[0].select(\"div.list-rst__wrap\"):\n",
    "            img_tags = item_list.select(\"img.js-cassette-img\")\n",
    "            img_tag = img_tags[0]\n",
    "            # print(img_tag)\n",
    "            omulette_img.append(img_tag)\n",
    "\n",
    "            item_name_tags = item_list.select(\"a.list-rst__rst-name-target\")\n",
    "            item_name_tag = item_name_tags[0]\n",
    "\n",
    "\n",
    "            # print(item_name_tag)\n",
    "            omulette_restaurant.append(item_name_tag)\n",
    "            div_item_list = bs.select(\"ul.js-rstlist-info\")\n",
    "\n",
    "        return omulette_restaurant,omulette_img\n",
    "        \n",
    "my_instance = Omelette('池袋')\n",
    "my_instance.extraction()            \n",
    "\n",
    "\n"
   ]
  },
  {
   "cell_type": "code",
   "execution_count": null,
   "metadata": {},
   "outputs": [
    {
     "name": "stdout",
     "output_type": "stream",
     "text": [
      " * Serving Flask app \"__main__\" (lazy loading)\n",
      " * Environment: production\n",
      "   WARNING: Do not use the development server in a production environment.\n",
      "   Use a production WSGI server instead.\n",
      " * Debug mode: off\n"
     ]
    },
    {
     "name": "stderr",
     "output_type": "stream",
     "text": [
      " * Running on http://127.0.0.1:5000/ (Press CTRL+C to quit)\n",
      "127.0.0.1 - - [20/Nov/2018 18:21:27] \"GET / HTTP/1.1\" 200 -\n",
      "127.0.0.1 - - [20/Nov/2018 18:21:27] \"GET /static/style.css HTTP/1.1\" 404 -\n"
     ]
    }
   ],
   "source": [
    "from flask import Flask,render_template\n",
    "app = Flask(__name__)\n",
    "\n",
    "\n",
    "@app.route(\"/\")\n",
    "def index():\n",
    "\n",
    "    return render_template('index.html', restaurants=omulette_restaurant ,images=omulette_img)\n",
    "\n",
    "app.run()\n",
    "\n"
   ]
  },
  {
   "cell_type": "code",
   "execution_count": null,
   "metadata": {},
   "outputs": [],
   "source": []
  },
  {
   "cell_type": "code",
   "execution_count": null,
   "metadata": {},
   "outputs": [],
   "source": [
    "松本さん"
   ]
  },
  {
   "cell_type": "code",
   "execution_count": 4,
   "metadata": {},
   "outputs": [
    {
     "name": "stdout",
     "output_type": "stream",
     "text": [
      "詳細はこちら ( https://tabelog.com/support/announcement?id=509)\n",
      " (None)\n",
      "有料サービスのご登録状況 (https://ssl.tabelog.com/account/carrier_payment_session/)\n",
      "ログインできない場合 (https://ssl.tabelog.com/account/temp_login_form/)\n",
      "食べログの特長と便利な使い方 (https://tabelog.com/help/beginner/)\n",
      "無料会員登録 (https://ssl.tabelog.com/account/login/)\n",
      "Tpoint保有Tポイント (https://ssl.tabelog.com/account/login/)\n",
      "予約確認 (https://ssl.tabelog.com/yoyaku/tabelog_booking/send_remind/)\n",
      "行ったお店 (https://ssl.tabelog.com/account/login/)\n",
      "保存済み保存済み (https://ssl.tabelog.com/account/login/)\n",
      "ログイン (#)\n",
      "食べログ (https://tabelog.com/)\n",
      "\n",
      "食べログ\n",
      " (https://tabelog.com/)\n",
      "\n",
      "東京\n",
      " (https://tabelog.com/tokyo/)\n",
      "\n",
      "東京オムライス\n",
      " (https://tabelog.com/tokyo/rstLst/RC020912/)\n",
      "\n",
      "渋谷・恵比寿・代官山オムライス\n",
      " (https://tabelog.com/tokyo/A1303/rstLst/RC020912/)\n",
      "\n",
      "渋谷オムライス\n",
      " (https://tabelog.com/tokyo/A1303/A130301/rstLst/RC020912/)\n",
      "3,158店舗 (/sitemap/tokyo/A1303-A130301/)\n",
      "渋谷(神奈川県 大和市) (https://tabelog.com/rst/rstsearch?area_datatype=Town&area_id=39585&sa=%E6%B8%8B%E8%B0%B7%28%E7%A5%9E%E5%A5%88%E5%B7%9D%E7%9C%8C+%E5%A4%A7%E5%92%8C%E5%B8%82%29&sk=%E3%82%AA%E3%83%A0%E3%83%A9%E3%82%A4%E3%82%B9)\n",
      "渋谷(大阪府 池田市) (https://tabelog.com/rst/rstsearch?area_datatype=Town&area_id=80583&sa=%E6%B8%8B%E8%B0%B7%28%E5%A4%A7%E9%98%AA%E5%BA%9C+%E6%B1%A0%E7%94%B0%E5%B8%82%29&sk=%E3%82%AA%E3%83%A0%E3%83%A9%E3%82%A4%E3%82%B9)\n",
      "渋谷町(愛知県 豊田市) (https://tabelog.com/rst/rstsearch?area_datatype=Town&area_id=65753&sa=%E6%B8%8B%E8%B0%B7%E7%94%BA%28%E6%84%9B%E7%9F%A5%E7%9C%8C+%E8%B1%8A%E7%94%B0%E5%B8%82%29&sk=%E3%82%AA%E3%83%A0%E3%83%A9%E3%82%A4%E3%82%B9)\n",
      "渋谷(千葉県 茂原市) (https://tabelog.com/rst/rstsearch?area_datatype=Town&area_id=33436&sa=%E6%B8%8B%E8%B0%B7%28%E5%8D%83%E8%91%89%E7%9C%8C+%E8%8C%82%E5%8E%9F%E5%B8%82%29&sk=%E3%82%AA%E3%83%A0%E3%83%A9%E3%82%A4%E3%82%B9)\n",
      "渋谷(兵庫県 篠山市) (https://tabelog.com/rst/rstsearch?area_datatype=Town&area_id=86444&sa=%E6%B8%8B%E8%B0%B7%28%E5%85%B5%E5%BA%AB%E7%9C%8C+%E7%AF%A0%E5%B1%B1%E5%B8%82%29&sk=%E3%82%AA%E3%83%A0%E3%83%A9%E3%82%A4%E3%82%B9)\n",
      "検索条件を変更 (#)\n",
      "\n",
      "              渋谷駅(周辺800m)\n",
      "           (https://tabelog.com/rstLst/RC020912/?sk=%E3%82%AA%E3%83%A0%E3%83%A9%E3%82%A4%E3%82%B9&svd=20181120&svt=2100&svps=2)\n",
      "\n",
      "              オムライス\n",
      "           (https://tabelog.com/tokyo/A1303/A130301/R4698/rstLst/?sk=%E3%82%AA%E3%83%A0%E3%83%A9%E3%82%A4%E3%82%B9&svd=20181120&svt=2100&svps=2)\n",
      "子供可 (https://tabelog.com/tokyo/A1303/A130301/R4698/rstLst/cond10-00-00/RC020912/)\n",
      "個室 (https://tabelog.com/tokyo/A1303/A130301/R4698/rstLst/cond07-00-00/RC020912/)\n",
      "家族・子供と (https://tabelog.com/tokyo/A1303/A130301/R4698/rstLst/cond04-00-04/RC020912/)\n",
      "\n",
      " (https://tabelog.com/tpoint/kikancampaign)\n",
      "\n",
      "標準【会員店舗優先順】\n",
      " (https://tabelog.com/tokyo/A1303/A130301/R4698/rstLst/RC020912/?sk=%E3%82%AA%E3%83%A0%E3%83%A9%E3%82%A4%E3%82%B9&svd=20181120&svt=2100&svps=2&select_sort_flg=1)\n",
      "\n",
      "ランキング\n",
      " (https://tabelog.com/tokyo/A1303/A130301/R4698/rstLst/RC020912/?SrtT=rt&sk=%E3%82%AA%E3%83%A0%E3%83%A9%E3%82%A4%E3%82%B9&svd=20181120&svt=2100&svps=2&Srt=D&sort_mode=1)\n",
      "\n",
      "口コミ数順\n",
      " (https://tabelog.com/tokyo/A1303/A130301/R4698/rstLst/RC020912/?SrtT=rvcn&sk=%E3%82%AA%E3%83%A0%E3%83%A9%E3%82%A4%E3%82%B9&svd=20181120&svt=2100&svps=2&Srt=D)\n",
      "\n",
      "ニューオープン順\n",
      " (https://tabelog.com/tokyo/A1303/A130301/R4698/rstLst/RC020912/?SrtT=nod&sk=%E3%82%AA%E3%83%A0%E3%83%A9%E3%82%A4%E3%82%B9&svd=20181120&svt=2100&svps=2&Srt=D)\n",
      "点数について (https://tabelog.com/help/score/)\n",
      "「標準」の並び順について (https://tabelog.com/help/faq_service/)\n",
      "口コミ・お店の情報で検索する (/tokyo/A1303/A130301/R4698/rstLst/RC020912/?vs=1&sa=%E6%B8%8B%E8%B0%B7%E9%A7%85&sk=%E3%82%AA%E3%83%A0%E3%83%A9%E3%82%A4%E3%82%B9&vac_net=&svd=20181120&svt=2100&svps=2&hfc=1&Cat=RC&LstCat=RC02&LstCatD=RC0209&LstCatSD=RC020912&cat_sk=%E3%82%AA%E3%83%A0%E3%83%A9%E3%82%A4%E3%82%B9&sw=%E3%82%AA%E3%83%A0%E3%83%A9%E3%82%A4%E3%82%B9&srchTg=2)\n",
      "保存済み (None)\n",
      "編集 (#edit-hozon/undefined)\n",
      "Dining Bar ROOT (https://tabelog.com/tokyo/A1306/A130601/13223472/)\n",
      "\n",
      " (https://tabelog.com/tokyo/A1306/A130601/13223472/)\n",
      "\n",
      " (https://tabelog.com/tokyo/A1306/A130601/13223472/)\n",
      "\n",
      " (https://tabelog.com/tokyo/A1306/A130601/13223472/)\n",
      "\n",
      " (https://tabelog.com/tokyo/A1306/A130601/13223472/)\n",
      "\n",
      " (https://tabelog.com/tokyo/A1306/A130601/13223472/)\n",
      "\n",
      " (https://tabelog.com/tokyo/A1306/A130601/13223472/)\n",
      "\n",
      "\n",
      "    飲み放題付\n",
      "  \n",
      "\n",
      "    お得バリュープライス！2980円コース【料理3品付&2h飲み放題付】\n",
      "  \n",
      "2,980円(税込価格)\n",
      "\n",
      " (https://tabelog.com/tokyo/A1306/A130601/13223472/party/)\n",
      "21 (#)\n",
      "22 (#)\n",
      "23 (#)\n",
      "24 (#)\n",
      "25 (#)\n",
      "26 (#)\n",
      "27 (#)\n",
      "28 (#)\n",
      "29 (#)\n",
      "30 (#)\n",
      "12/1 (#)\n",
      "2 (#)\n",
      "3 (#)\n",
      "保存済み (None)\n",
      "編集 (#edit-hozon/undefined)\n",
      "レストラン DEMI (https://tabelog.com/tokyo/A1303/A130301/13037560/)\n",
      "22件 (https://tabelog.com/tokyo/A1303/A130301/13037560/dtlrvwlst/)\n",
      " (https://tabelog.com/tokyo/A1303/A130301/13037560/dtlrvwlst/B334584345/)\n",
      "まぁち〜ん(222) (https://tabelog.com/rvwr/001271420/)\n",
      "\n",
      " (https://tabelog.com/tokyo/A1303/A130301/13037560/)\n",
      "\n",
      " (https://tabelog.com/tokyo/A1303/A130301/13037560/)\n",
      "\n",
      " (https://tabelog.com/tokyo/A1303/A130301/13037560/)\n",
      "\n",
      " (https://tabelog.com/tokyo/A1303/A130301/13037560/)\n",
      "\n",
      " (https://tabelog.com/tokyo/A1303/A130301/13037560/)\n",
      "\n",
      " (https://tabelog.com/tokyo/A1303/A130301/13037560/)\n",
      "\n",
      "\n",
      "    和牛ハンバーグコース\n",
      "  \n",
      "4,200円\n",
      "\n",
      " (https://tabelog.com/tokyo/A1303/A130301/13037560/party/)\n",
      "保存済み (None)\n",
      "編集 (#edit-hozon/undefined)\n",
      "オムトラック 神泉駅北口商店街 (https://tabelog.com/tokyo/A1303/A130301/13198589/)\n",
      "1件 (https://tabelog.com/tokyo/A1303/A130301/13198589/dtlrvwlst/)\n",
      "神泉　オムトラック 神泉駅北口商店街    （OmtRak） (https://tabelog.com/tokyo/A1303/A130301/13198589/dtlrvwlst/B209886258/)\n",
      "okamooo(3803) (https://tabelog.com/rvwr/000076339/)\n",
      "\n",
      " (https://tabelog.com/tokyo/A1303/A130301/13198589/)\n",
      "\n",
      " (https://tabelog.com/tokyo/A1303/A130301/13198589/)\n",
      "\n",
      " (https://tabelog.com/tokyo/A1303/A130301/13198589/)\n",
      "\n",
      " (https://tabelog.com/tokyo/A1303/A130301/13198589/)\n",
      "保存済み (None)\n",
      "編集 (#edit-hozon/undefined)\n",
      "卵と私 渋谷八番街店 (https://tabelog.com/tokyo/A1303/A130301/13130767/)\n",
      "33件 (https://tabelog.com/tokyo/A1303/A130301/13130767/dtlrvwlst/)\n",
      "女子率高め！ (https://tabelog.com/tokyo/A1303/A130301/13130767/dtlrvwlst/B193672706/)\n",
      "ロバートＫ(352) (https://tabelog.com/rvwr/002062126/)\n",
      "\n",
      " (https://tabelog.com/tokyo/A1303/A130301/13130767/)\n",
      "\n",
      " (https://tabelog.com/tokyo/A1303/A130301/13130767/)\n",
      "\n",
      " (https://tabelog.com/tokyo/A1303/A130301/13130767/)\n",
      "\n",
      " (https://tabelog.com/tokyo/A1303/A130301/13130767/)\n",
      "\n",
      " (https://tabelog.com/tokyo/A1303/A130301/13130767/)\n",
      "\n",
      " (https://tabelog.com/tokyo/A1303/A130301/13130767/)\n",
      "保存済み (None)\n",
      "編集 (#edit-hozon/undefined)\n",
      "ラケル 宮益坂店 (https://tabelog.com/tokyo/A1303/A130301/13001322/)\n",
      "86件 (https://tabelog.com/tokyo/A1303/A130301/13001322/dtlrvwlst/)\n",
      "メルヘンなファミレス (https://tabelog.com/tokyo/A1303/A130301/13001322/dtlrvwlst/B271849149/)\n",
      "azusa97477(253) (https://tabelog.com/rvwr/003673066/)\n",
      "\n",
      " (https://tabelog.com/tokyo/A1303/A130301/13001322/)\n",
      "\n",
      " (https://tabelog.com/tokyo/A1303/A130301/13001322/)\n",
      "\n",
      " (https://tabelog.com/tokyo/A1303/A130301/13001322/)\n",
      "\n",
      " (https://tabelog.com/tokyo/A1303/A130301/13001322/)\n",
      "\n",
      " (https://tabelog.com/tokyo/A1303/A130301/13001322/)\n",
      "\n",
      " (https://tabelog.com/tokyo/A1303/A130301/13001322/)\n",
      "保存済み (None)\n",
      "編集 (#edit-hozon/undefined)\n",
      "ポムの樹 渋谷スペイン坂店 (https://tabelog.com/tokyo/A1303/A130301/13103027/)\n",
      "52件 (https://tabelog.com/tokyo/A1303/A130301/13103027/dtlrvwlst/)\n",
      "低糖質シリーズ その30 (https://tabelog.com/tokyo/A1303/A130301/13103027/dtlrvwlst/B387913311/)\n",
      "桜庭ピエロ(1193) (https://tabelog.com/rvwr/000764952/)\n",
      "\n",
      " (https://tabelog.com/tokyo/A1303/A130301/13103027/)\n",
      "\n",
      " (https://tabelog.com/tokyo/A1303/A130301/13103027/)\n",
      "\n",
      " (https://tabelog.com/tokyo/A1303/A130301/13103027/)\n",
      "\n",
      " (https://tabelog.com/tokyo/A1303/A130301/13103027/)\n",
      "\n",
      " (https://tabelog.com/tokyo/A1303/A130301/13103027/)\n",
      "\n",
      " (https://tabelog.com/tokyo/A1303/A130301/13103027/)\n",
      "レストランの新規登録ページ (https://tabelog.com/rst/auth_rst_entry?pcd=13)\n",
      "銀座 (https://tabelog.com/tokyo/A1301/A130101/rstLst/RC020912/)\n",
      "渋谷 (https://tabelog.com/tokyo/A1303/A130301/rstLst/RC020912/)\n",
      "新宿 (https://tabelog.com/tokyo/A1304/A130401/rstLst/RC020912/)\n",
      "浅草 (https://tabelog.com/tokyo/A1311/A131102/rstLst/RC020912/)\n",
      "西麻布 (https://tabelog.com/tokyo/A1307/A130701/rstLst/RC020912/)\n",
      "恵比寿 (https://tabelog.com/tokyo/A1303/A130302/rstLst/RC020912/)\n",
      "池袋 (https://tabelog.com/tokyo/A1305/A130501/rstLst/RC020912/)\n",
      "お台場 (https://tabelog.com/tokyo/A1313/A131306/rstLst/RC020912/)\n",
      "御徒町 (https://tabelog.com/tokyo/A1311/A131101/rstLst/RC020912/)\n",
      "神田 (https://tabelog.com/tokyo/A1310/A131002/rstLst/RC020912/)\n",
      "品川 (https://tabelog.com/tokyo/A1314/A131403/rstLst/RC020912/)\n",
      "表参道 (https://tabelog.com/tokyo/A1306/A130602/rstLst/RC020912/)\n",
      "新宿駅 (https://tabelog.com/tokyo/A1304/A130401/R5172/rstLst/RC020912/)\n",
      "池袋駅 (https://tabelog.com/tokyo/A1305/A130501/R607/rstLst/RC020912/)\n",
      "渋谷駅 (https://tabelog.com/tokyo/A1303/A130301/R4698/rstLst/RC020912/)\n",
      "東京駅 (https://tabelog.com/tokyo/A1302/A130201/R6586/rstLst/RC020912/)\n",
      "銀座駅 (https://tabelog.com/tokyo/A1301/A130101/R3368/rstLst/RC020912/)\n",
      "品川駅 (https://tabelog.com/tokyo/A1314/A131403/R4638/rstLst/RC020912/)\n",
      "新橋駅 (https://tabelog.com/tokyo/A1301/A130103/R5266/rstLst/RC020912/)\n",
      "秋葉原駅 (https://tabelog.com/tokyo/A1310/A131001/R173/rstLst/RC020912/)\n",
      "上野駅 (https://tabelog.com/tokyo/A1311/A131101/R1157/rstLst/RC020912/)\n",
      "有楽町駅 (https://tabelog.com/tokyo/A1301/A130102/R10345/rstLst/RC020912/)\n",
      "もっと見る (#)\n",
      "渋谷駅 (https://tabelog.com/tokyo/A1303/A130301/R4698/rstLst/RC020912/)\n",
      "神泉駅 (https://tabelog.com/tokyo/A1303/A130301/R5207/rstLst/RC020912/)\n",
      "個室あり (https://tabelog.com/tokyo/A1303/A130301/R4698/rstLst/cond07-00-00/RC020912/)\n",
      "子連れで行ける (https://tabelog.com/tokyo/A1303/A130301/R4698/rstLst/cond10-00-00/RC020912/)\n",
      "一人で入りやすい (https://tabelog.com/tokyo/A1303/A130301/R4698/rstLst/cond04-00-02/RC020912/)\n",
      "日曜営業 (https://tabelog.com/tokyo/A1303/A130301/R4698/rstLst/cond14-00-00/RC020912/)\n",
      "飲み放題あり (https://tabelog.com/tokyo/A1303/A130301/R4698/rstLst/cond05-00-00/RC020912/)\n",
      "オシャレな空間 (https://tabelog.com/tokyo/A1303/A130301/R4698/rstLst/cond03-01-00/RC020912/)\n",
      "家族・子供と (https://tabelog.com/tokyo/A1303/A130301/R4698/rstLst/cond04-00-04/RC020912/)\n",
      "夜10時以降入店OK (https://tabelog.com/tokyo/A1303/A130301/R4698/rstLst/cond06-00-04/RC020912/)\n",
      "完全禁煙 (https://tabelog.com/tokyo/A1303/A130301/R4698/rstLst/cond13-00-00/RC020912/)\n",
      "女子会 (https://tabelog.com/tokyo/A1303/A130301/R4698/rstLst/cond04-00-06/RC020912/)\n",
      "隠れ家レストラン (https://tabelog.com/tokyo/A1303/A130301/R4698/rstLst/cond08-01-00/RC020912/)\n",
      "友人･知人と (https://tabelog.com/tokyo/A1303/A130301/R4698/rstLst/cond04-00-05/RC020912/)\n",
      "もっと見る (#)\n",
      "和食×ランチ (https://tabelog.com/tokyo/A1303/A130301/R4698/rstLst/lunch/washoku/?RdoCosTp=1)\n",
      "寿司×ランチ (https://tabelog.com/tokyo/A1303/A130301/R4698/rstLst/lunch/sushi/?RdoCosTp=1)\n",
      "魚介・海鮮料理×ランチ (https://tabelog.com/tokyo/A1303/A130301/R4698/rstLst/lunch/seafood/?RdoCosTp=1)\n",
      "そば（蕎麦）×ランチ (https://tabelog.com/tokyo/A1303/A130301/R4698/rstLst/lunch/soba/?RdoCosTp=1)\n",
      "うどん×ランチ (https://tabelog.com/tokyo/A1303/A130301/R4698/rstLst/lunch/udon/?RdoCosTp=1)\n",
      "うなぎ×ランチ (https://tabelog.com/tokyo/A1303/A130301/R4698/rstLst/lunch/unagi/?RdoCosTp=1)\n",
      "天ぷら×ランチ (https://tabelog.com/tokyo/A1303/A130301/R4698/rstLst/lunch/tempura/?RdoCosTp=1)\n",
      "フレンチ×ランチ (https://tabelog.com/tokyo/A1303/A130301/R4698/rstLst/lunch/french/?RdoCosTp=1)\n",
      "イタリアン×ランチ (https://tabelog.com/tokyo/A1303/A130301/R4698/rstLst/lunch/italian/?RdoCosTp=1)\n",
      "パスタ×ランチ (https://tabelog.com/tokyo/A1303/A130301/R4698/rstLst/lunch/pasta/?RdoCosTp=1)\n",
      "ピザ×ランチ (https://tabelog.com/tokyo/A1303/A130301/R4698/rstLst/lunch/pizza/?RdoCosTp=1)\n",
      "ステーキ×ランチ (https://tabelog.com/tokyo/A1303/A130301/R4698/rstLst/lunch/steak/?RdoCosTp=1)\n",
      "ハンバーグ×ランチ (https://tabelog.com/tokyo/A1303/A130301/R4698/rstLst/lunch/hamburgersteak/?RdoCosTp=1)\n",
      "ハンバーガー×ランチ (https://tabelog.com/tokyo/A1303/A130301/R4698/rstLst/lunch/hamburger/?RdoCosTp=1)\n",
      "中華料理×ランチ (https://tabelog.com/tokyo/A1303/A130301/R4698/rstLst/lunch/chinese/?RdoCosTp=1)\n",
      "韓国料理×ランチ (https://tabelog.com/tokyo/A1303/A130301/R4698/rstLst/lunch/korea/?RdoCosTp=1)\n",
      "タイ料理×ランチ (https://tabelog.com/tokyo/A1303/A130301/R4698/rstLst/lunch/thai/?RdoCosTp=1)\n",
      "ラーメン×ランチ (https://tabelog.com/tokyo/A1303/A130301/R4698/rstLst/lunch/ramen/?RdoCosTp=1)\n",
      "カレー×ランチ (https://tabelog.com/tokyo/A1303/A130301/R4698/rstLst/lunch/curry/?RdoCosTp=1)\n",
      "焼肉×ランチ (https://tabelog.com/tokyo/A1303/A130301/R4698/rstLst/lunch/yakiniku/?RdoCosTp=1)\n",
      "バイキング×ランチ (https://tabelog.com/tokyo/A1303/A130301/R4698/rstLst/lunch/viking/?RdoCosTp=1)\n",
      "\n",
      "\n",
      "      渋谷駅\n",
      "    \n",
      "\n",
      "        800m\n",
      "      \n",
      " (#)\n",
      "全国 (https://tabelog.com/rstLst/RC020912/?sk=%E3%82%AA%E3%83%A0%E3%83%A9%E3%82%A4%E3%82%B9&svd=20181120&svt=2100&svps=2)\n",
      "東京都 (https://tabelog.com/tokyo/rstLst/RC020912/?sk=%E3%82%AA%E3%83%A0%E3%83%A9%E3%82%A4%E3%82%B9&svd=20181120&svt=2100&svps=2)\n",
      "渋谷・恵比寿・代官山 (https://tabelog.com/tokyo/A1303/rstLst/RC020912/?sk=%E3%82%AA%E3%83%A0%E3%83%A9%E3%82%A4%E3%82%B9&svd=20181120&svt=2100&svps=2)\n",
      "渋谷 (https://tabelog.com/tokyo/A1303/A130301/rstLst/RC020912/?sk=%E3%82%AA%E3%83%A0%E3%83%A9%E3%82%A4%E3%82%B9&svd=20181120&svt=2100&svps=2)\n",
      "300m[1件] (https://tabelog.com/tokyo/A1303/A130301/R4698/rstLst/RC020912/?sk=%E3%82%AA%E3%83%A0%E3%83%A9%E3%82%A4%E3%82%B9&svd=20181120&svt=2100&svps=2&LstRange=SF)\n",
      "500m[3件] (https://tabelog.com/tokyo/A1303/A130301/R4698/rstLst/RC020912/?sk=%E3%82%AA%E3%83%A0%E3%83%A9%E3%82%A4%E3%82%B9&svd=20181120&svt=2100&svps=2&LstRange=SG)\n",
      "800m[6件] (https://tabelog.com/tokyo/A1303/A130301/R4698/rstLst/RC020912/?sk=%E3%82%AA%E3%83%A0%E3%83%A9%E3%82%A4%E3%82%B9&svd=20181120&svt=2100&svps=2)\n",
      "1km[7件] (https://tabelog.com/tokyo/A1303/A130301/R4698/rstLst/RC020912/?sk=%E3%82%AA%E3%83%A0%E3%83%A9%E3%82%A4%E3%82%B9&svd=20181120&svt=2100&svps=2&LstRange=SB)\n",
      "3km[17件] (https://tabelog.com/tokyo/A1303/A130301/R4698/rstLst/RC020912/?sk=%E3%82%AA%E3%83%A0%E3%83%A9%E3%82%A4%E3%82%B9&svd=20181120&svt=2100&svps=2&LstRange=SC)\n",
      "5km[56件] (https://tabelog.com/tokyo/A1303/A130301/R4698/rstLst/RC020912/?sk=%E3%82%AA%E3%83%A0%E3%83%A9%E3%82%A4%E3%82%B9&svd=20181120&svt=2100&svps=2&LstRange=SD)\n",
      "10km[177件] (https://tabelog.com/tokyo/A1303/A130301/R4698/rstLst/RC020912/?sk=%E3%82%AA%E3%83%A0%E3%83%A9%E3%82%A4%E3%82%B9&svd=20181120&svt=2100&svps=2&LstRange=SE)\n",
      "このエリアを地図で見る (https://tabelog.com/RC020912/tokyo/A1303/A130301/R4698/map/?SrtT=trend&sk=%E3%82%AA%E3%83%A0%E3%83%A9%E3%82%A4%E3%82%B9&svd=20181120&svt=2100&svps=2)\n",
      "\n",
      "\n",
      "      オムライス\n",
      "    \n",
      " (#)\n",
      "すべて (https://tabelog.com/tokyo/A1303/A130301/R4698/rstLst/?sk=%E3%82%AA%E3%83%A0%E3%83%A9%E3%82%A4%E3%82%B9&svd=20181120&svt=2100&svps=2)\n",
      "レストラン (https://tabelog.com/tokyo/A1303/A130301/R4698/rstLst/RC/?sk=%E3%82%AA%E3%83%A0%E3%83%A9%E3%82%A4%E3%82%B9&svd=20181120&svt=2100&svps=2)\n",
      "洋食・西洋料理 (https://tabelog.com/tokyo/A1303/A130301/R4698/rstLst/RC02/?sk=%E3%82%AA%E3%83%A0%E3%83%A9%E3%82%A4%E3%82%B9&svd=20181120&svt=2100&svps=2)\n",
      "洋食・欧風料理 (https://tabelog.com/tokyo/A1303/A130301/R4698/rstLst/RC0209/?sk=%E3%82%AA%E3%83%A0%E3%83%A9%E3%82%A4%E3%82%B9&svd=20181120&svt=2100&svps=2)\n",
      "洋食 (https://tabelog.com/tokyo/A1303/A130301/R4698/rstLst/yoshoku/?sk=%E3%82%AA%E3%83%A0%E3%83%A9%E3%82%A4%E3%82%B9&svd=20181120&svt=2100&svps=2)\n",
      "オムライス (https://tabelog.com/tokyo/A1303/A130301/R4698/rstLst/RC020912/?sk=%E3%82%AA%E3%83%A0%E3%83%A9%E3%82%A4%E3%82%B9&svd=20181120&svt=2100&svps=2)\n",
      "シチュー (https://tabelog.com/tokyo/A1303/A130301/R4698/rstLst/RC020913/?sk=%E3%82%AA%E3%83%A0%E3%83%A9%E3%82%A4%E3%82%B9&svd=20181120&svt=2100&svps=2)\n",
      "スープ (https://tabelog.com/tokyo/A1303/A130301/R4698/rstLst/RC020914/?sk=%E3%82%AA%E3%83%A0%E3%83%A9%E3%82%A4%E3%82%B9&svd=20181120&svt=2100&svps=2)\n",
      "コロッケ・フライ (https://tabelog.com/tokyo/A1303/A130301/R4698/rstLst/RC020915/?sk=%E3%82%AA%E3%83%A0%E3%83%A9%E3%82%A4%E3%82%B9&svd=20181120&svt=2100&svps=2)\n",
      "洋食・欧風料理（その他） (https://tabelog.com/tokyo/A1303/A130301/R4698/rstLst/RC020999/?sk=%E3%82%AA%E3%83%A0%E3%83%A9%E3%82%A4%E3%82%B9&svd=20181120&svt=2100&svps=2)\n",
      "使える (https://tabelog.com/tokyo/A1303/A130301/R4698/rstLst/cond21-01-00/RC020912/?sk=%E3%82%AA%E3%83%A0%E3%83%A9%E3%82%A4%E3%82%B9&svd=20181120&svt=2100&svps=2)\n",
      "日曜営業あり (https://tabelog.com/tokyo/A1303/A130301/R4698/rstLst/cond14-00-00/RC020912/?sk=%E3%82%AA%E3%83%A0%E3%83%A9%E3%82%A4%E3%82%B9&svd=20181120&svt=2100&svps=2)\n",
      "カード可 (https://tabelog.com/tokyo/A1303/A130301/R4698/rstLst/cond20-00-00/RC020912/?sk=%E3%82%AA%E3%83%A0%E3%83%A9%E3%82%A4%E3%82%B9&svd=20181120&svt=2100&svps=2)\n",
      "個室 (https://tabelog.com/tokyo/A1303/A130301/R4698/rstLst/cond07-00-00/RC020912/?sk=%E3%82%AA%E3%83%A0%E3%83%A9%E3%82%A4%E3%82%B9&svd=20181120&svt=2100&svps=2)\n",
      "貸切可 (https://tabelog.com/tokyo/A1303/A130301/R4698/rstLst/cond09-00-00/RC020912/?sk=%E3%82%AA%E3%83%A0%E3%83%A9%E3%82%A4%E3%82%B9&svd=20181120&svt=2100&svps=2)\n",
      "駐車場 (https://tabelog.com/tokyo/A1303/A130301/R4698/rstLst/cond19-00-00/RC020912/?sk=%E3%82%AA%E3%83%A0%E3%83%A9%E3%82%A4%E3%82%B9&svd=20181120&svt=2100&svps=2)\n",
      "飲み放題 (https://tabelog.com/tokyo/A1303/A130301/R4698/rstLst/cond05-00-00/RC020912/?sk=%E3%82%AA%E3%83%A0%E3%83%A9%E3%82%A4%E3%82%B9&svd=20181120&svt=2100&svps=2)\n",
      "子供可 (https://tabelog.com/tokyo/A1303/A130301/R4698/rstLst/cond10-00-00/RC020912/?sk=%E3%82%AA%E3%83%A0%E3%83%A9%E3%82%A4%E3%82%B9&svd=20181120&svt=2100&svps=2)\n",
      "クーポン (https://tabelog.com/tokyo/A1303/A130301/R4698/rstLst/cond00-00-00/RC020912/?sk=%E3%82%AA%E3%83%A0%E3%83%A9%E3%82%A4%E3%82%B9&svd=20181120&svt=2100&svps=2)\n",
      "家族・子供と (https://tabelog.com/tokyo/A1303/A130301/R4698/rstLst/cond04-00-04/RC020912/?sk=%E3%82%AA%E3%83%A0%E3%83%A9%E3%82%A4%E3%82%B9&svd=20181120&svt=2100&svps=2)\n",
      "知人・友人と (https://tabelog.com/tokyo/A1303/A130301/R4698/rstLst/cond04-00-05/RC020912/?sk=%E3%82%AA%E3%83%A0%E3%83%A9%E3%82%A4%E3%82%B9&svd=20181120&svt=2100&svps=2)\n",
      "禁煙 (https://tabelog.com/tokyo/A1303/A130301/R4698/rstLst/cond13-00-00/RC020912/?sk=%E3%82%AA%E3%83%A0%E3%83%A9%E3%82%A4%E3%82%B9&svd=20181120&svt=2100&svps=2)\n",
      "喫煙可 (https://tabelog.com/tokyo/A1303/A130301/R4698/rstLst/cond13-00-01/RC020912/?sk=%E3%82%AA%E3%83%A0%E3%83%A9%E3%82%A4%E3%82%B9&svd=20181120&svt=2100&svps=2)\n",
      "ワインあり (https://tabelog.com/tokyo/A1303/A130301/R4698/rstLst/cond18-00-00/RC020912/?sk=%E3%82%AA%E3%83%A0%E3%83%A9%E3%82%A4%E3%82%B9&svd=20181120&svt=2100&svps=2)\n",
      "日本酒あり (https://tabelog.com/tokyo/A1303/A130301/R4698/rstLst/cond18-01-00/RC020912/?sk=%E3%82%AA%E3%83%A0%E3%83%A9%E3%82%A4%E3%82%B9&svd=20181120&svt=2100&svps=2)\n",
      "焼酎あり (https://tabelog.com/tokyo/A1303/A130301/R4698/rstLst/cond18-03-00/RC020912/?sk=%E3%82%AA%E3%83%A0%E3%83%A9%E3%82%A4%E3%82%B9&svd=20181120&svt=2100&svps=2)\n",
      "オシャレな空間 (https://tabelog.com/tokyo/A1303/A130301/R4698/rstLst/cond03-01-00/RC020912/?sk=%E3%82%AA%E3%83%A0%E3%83%A9%E3%82%A4%E3%82%B9&svd=20181120&svt=2100&svps=2)\n",
      "カップルシート (https://tabelog.com/tokyo/A1303/A130301/R4698/rstLst/cond03-11-00/RC020912/?sk=%E3%82%AA%E3%83%A0%E3%83%A9%E3%82%A4%E3%82%B9&svd=20181120&svt=2100&svps=2)\n",
      "カウンター席 (https://tabelog.com/tokyo/A1303/A130301/R4698/rstLst/cond03-10-00/RC020912/?sk=%E3%82%AA%E3%83%A0%E3%83%A9%E3%82%A4%E3%82%B9&svd=20181120&svt=2100&svps=2)\n",
      "ソファー席 (https://tabelog.com/tokyo/A1303/A130301/R4698/rstLst/cond03-04-00/RC020912/?sk=%E3%82%AA%E3%83%A0%E3%83%A9%E3%82%A4%E3%82%B9&svd=20181120&svt=2100&svps=2)\n",
      "もっと詳しい条件から探す (None)\n",
      "渋谷駅周辺のオムライスランチを探す (https://tabelog.com/tokyo/A1303/A130301/R4698/rstLst/lunch/RC020912/?sk=%E3%82%AA%E3%83%A0%E3%83%A9%E3%82%A4%E3%82%B9&svd=20181120&svt=2100&svps=2&RdoCosTp=1)\n",
      "～1,000円 (https://tabelog.com/tokyo/A1303/A130301/R4698/rstLst/lunch/RC020912/?sk=%E3%82%AA%E3%83%A0%E3%83%A9%E3%82%A4%E3%82%B9&RdoCosTp=1&LstCos=0&LstCosT=1)\n",
      "1,000円 ～ 2,000円 (https://tabelog.com/tokyo/A1303/A130301/R4698/rstLst/lunch/RC020912/?sk=%E3%82%AA%E3%83%A0%E3%83%A9%E3%82%A4%E3%82%B9&RdoCosTp=1&LstCos=1&LstCosT=2)\n",
      "\n",
      "            新宿\n",
      "           (https://tabelog.com/tokyo/A1304/A130401/)\n",
      "\n",
      "            渋谷\n",
      "           (https://tabelog.com/tokyo/A1303/A130301/)\n",
      "\n",
      "            池袋\n",
      "           (https://tabelog.com/tokyo/A1305/A130501/)\n",
      "\n",
      "            新宿\n",
      "              ×\n",
      "              ランチ\n",
      "           (https://tabelog.com/tokyo/A1304/A130401/rstLst/lunch/?RdoCosTp=1)\n",
      "\n",
      "            渋谷\n",
      "              ×\n",
      "              ランチ\n",
      "           (https://tabelog.com/tokyo/A1303/A130301/rstLst/lunch/?RdoCosTp=1)\n",
      "\n",
      "            池袋\n",
      "              ×\n",
      "              ランチ\n",
      "           (https://tabelog.com/tokyo/A1305/A130501/rstLst/lunch/?RdoCosTp=1)\n",
      "\n",
      "            銀座\n",
      "              ×\n",
      "              ランチ\n",
      "           (https://tabelog.com/tokyo/A1301/A130101/rstLst/lunch/?RdoCosTp=1)\n",
      "\n",
      "            表参道\n",
      "              ×\n",
      "              ランチ\n",
      "           (https://tabelog.com/tokyo/A1306/A130602/rstLst/lunch/?RdoCosTp=1)\n",
      "\n",
      "            浅草\n",
      "              ×\n",
      "              ランチ\n",
      "           (https://tabelog.com/tokyo/A1311/A131102/rstLst/lunch/?RdoCosTp=1)\n",
      "\n",
      "            吉祥寺\n",
      "              ×\n",
      "              ランチ\n",
      "           (https://tabelog.com/tokyo/A1320/A132001/rstLst/lunch/?RdoCosTp=1)\n",
      "\n",
      "            新宿\n",
      "              ×\n",
      "              ラーメン\n",
      "           (https://tabelog.com/tokyo/A1304/A130401/rstLst/ramen/)\n",
      "\n",
      "            上野\n",
      "              ×\n",
      "              ランチ\n",
      "           (https://tabelog.com/tokyo/A1311/A131101/R1157/rstLst/lunch/?RdoCosTp=1)\n",
      "\n",
      "            新宿\n",
      "              ×\n",
      "              居酒屋\n",
      "           (https://tabelog.com/tokyo/A1304/A130401/rstLst/izakaya/)\n",
      "\n",
      "            池袋\n",
      "              ×\n",
      "              ラーメン\n",
      "           (https://tabelog.com/tokyo/A1305/A130501/rstLst/ramen/)\n",
      "\n",
      "            新宿\n",
      "              ×\n",
      "              カフェ\n",
      "           (https://tabelog.com/tokyo/A1304/A130401/rstLst/cafe/)\n",
      "\n",
      "            渋谷\n",
      "              ×\n",
      "              ラーメン\n",
      "           (https://tabelog.com/tokyo/A1303/A130301/rstLst/ramen/)\n",
      "\n",
      "            渋谷\n",
      "              ×\n",
      "              居酒屋\n",
      "           (https://tabelog.com/tokyo/A1303/A130301/rstLst/izakaya/)\n",
      "\n",
      "            渋谷\n",
      "              ×\n",
      "              カフェ\n",
      "           (https://tabelog.com/tokyo/A1303/A130301/rstLst/cafe/)\n",
      "\n",
      "            六本木\n",
      "              ×\n",
      "              ランチ\n",
      "           (https://tabelog.com/tokyo/A1307/A130701/R10651/rstLst/lunch/?RdoCosTp=1)\n",
      "\n",
      "            恵比寿\n",
      "              ×\n",
      "              ランチ\n",
      "           (https://tabelog.com/tokyo/A1303/A130302/rstLst/lunch/?RdoCosTp=1)\n",
      "グルメキュレーションサイト (/matome/)\n",
      "毎日の外食が楽しくなるグルメ情報 (https://magazine.tabelog.com/)\n",
      "全国で活躍するレビュアー (https://tabelog.com/rvwrs/rvwr_ranking)\n",
      "ヘルプ・お問い合わせ (http://user-help.tabelog.com)\n",
      "食べログの特長と便利な使い方 (https://tabelog.com/help/beginner/)\n",
      "口コミ・ランキングに対する取り組み (https://tabelog.com/help/policy/)\n",
      "FAQ (https://tabelog.com/help/faq_service/)\n",
      "集客サービス（飲食店・飲食企業様向け）について (https://owner.tabelog.com/owner_info/top?lid=ownerinfo_rstother_footer)\n",
      "広告（メーカー・団体様等向け）について (http://user-help.tabelog.com/advertisement)\n",
      "機能改善要望 (https://ssl.tabelog.com/support/inquiry?type=17)\n",
      "口コミガイドライン (http://user-help.tabelog.com/review_guide)\n",
      "プレミアムサービス (https://tabelog.com/rst/premium_service_guide?tid=ps_footer)\n",
      "プレミアムサービス無料クーポン (https://tabelog.com/free_coupon)\n",
      "ワンコインランチクーポン（無料体験） (/free_lunch_coupon/)\n",
      "利用規約 (http://user-help.tabelog.com/rules)\n",
      "個人情報保護方針 (http://user-help.tabelog.com/privacypolicy)\n",
      "企業情報 (http://corporate.kakaku.com/)\n",
      "\n",
      "        サイトマップ (/sitemap/tokyo/A1303-A130301/)\n",
      "キーワード一覧 (https://tabelog.com/keywords/)\n",
      "チェーン店一覧 (/grouplst/)\n",
      "English (https://tabelog.com/en/)\n",
      "简体中文 (https://tabelog.com/cn/)\n",
      "繁體中文 (https://tabelog.com/tw/)\n",
      "한국어 (https://tabelog.com/kr/)\n",
      "食べログ (https://tabelog.com)\n",
      "Kakaku.com, Inc. (http://corporate.kakaku.com/)\n",
      "ページの先頭へ (#pagetop)\n",
      "キャンペーン詳細はこちら (https://tabelog.com/tpoint/kikancampaign/)\n",
      "Tポイントを貯める（無料会員登録/ログイン） (https://ssl.tabelog.com/account/login/?after_login=yoyaku_complete&lid=yoyaku/tabelog_booking/complete:tpoint_getlogin_button_innextmodal)\n",
      "Tポイントを貯めない (#)\n"
     ]
    }
   ],
   "source": [
    "from selenium import webdriver\n",
    "from bs4 import BeautifulSoup\n",
    "import pandas as pd\n",
    "import csv\n",
    "\n",
    "omulette_restaurant = []\n",
    "omulette_img = []\n",
    "\n",
    "def search(place_name):\n",
    "    driver = webdriver.Chrome()\n",
    "    driver.get(\"https://tabelog.com/\")\n",
    "    input_elem = driver.find_element_by_name(\"sa\")\n",
    "    input_elem.send_keys(place_name)\n",
    "    input_elem.click()\n",
    "\n",
    "    elem_search_word = driver.find_element_by_name(\"sk\")\n",
    "    elem_search_word.send_keys(\"オムライス\")\n",
    "    elem_search_btn = driver.find_element_by_id(\"js-global-search-btn\")\n",
    "    elem_search_btn.click()\n",
    "    page_source = driver.page_source\n",
    "\n",
    "    return page_source\n",
    "\n",
    "\n",
    "def extraction():\n",
    "    page_source = search('渋谷')\n",
    "    bs = BeautifulSoup(page_source, \"html.parser\")\n",
    "    elems = bs.select('a')\n",
    "    for elem in elems:\n",
    "        print('{} ({})'.format(elem.getText(), elem.get('href')))\n",
    "        \n",
    "extraction()"
   ]
  },
  {
   "cell_type": "code",
   "execution_count": null,
   "metadata": {},
   "outputs": [],
   "source": []
  },
  {
   "cell_type": "code",
   "execution_count": null,
   "metadata": {},
   "outputs": [],
   "source": [
    "df = pd.DataFrame(omulette_restaurant)\n",
    "\n",
    "df.to_csv(\"main.csv\", index=False)\n",
    "\n",
    "omulette_source = pd.read_csv(\"main.csv\")\n",
    "\n",
    "print(omulette_source)"
   ]
  },
  {
   "cell_type": "code",
   "execution_count": null,
   "metadata": {},
   "outputs": [],
   "source": []
  },
  {
   "cell_type": "code",
   "execution_count": 2,
   "metadata": {},
   "outputs": [
    {
     "name": "stdout",
     "output_type": "stream",
     "text": [
      "[<img alt=\"Dining Bar ROOT\" class=\"js-cassette-img cpy-main-image lazy-loaded\" data-img-id=\"92505518\" data-img-index=\"0\" data-original=\"https://tblg.k-img.com/restaurant/images/Rvw/92505/150x150_square_92505518.jpg\" height=\"150\" src=\"https://tblg.k-img.com/restaurant/images/Rvw/92505/150x150_square_92505518.jpg\" width=\"150\"/>, <img alt=\"レストラン DEMI\" class=\"js-cassette-img cpy-main-image\" data-img-id=\"2808608\" data-img-index=\"0\" data-original=\"https://tblg.k-img.com/restaurant/images/Rvw/2808/150x150_square_2808608.jpg\" height=\"150\" src=\"data:image/gif;base64,R0lGODlhAQABAIAAAAAAAP///yH5BAEAAAAALAAAAAABAAEAAAIBRAA7\" width=\"150\"/>, <img alt=\"オムトラック 神泉駅北口商店街\" class=\"js-cassette-img cpy-main-image\" data-img-id=\"54297193\" data-img-index=\"0\" data-original=\"https://tblg.k-img.com/restaurant/images/Rvw/54297/150x150_square_54297193.jpg\" height=\"150\" src=\"data:image/gif;base64,R0lGODlhAQABAIAAAAAAAP///yH5BAEAAAAALAAAAAABAAEAAAIBRAA7\" width=\"150\"/>, <img alt=\"卵と私 渋谷八番街店\" class=\"js-cassette-img cpy-main-image\" data-img-id=\"50167663\" data-img-index=\"0\" data-original=\"https://tblg.k-img.com/restaurant/images/Rvw/50167/150x150_square_50167663.jpg\" height=\"150\" src=\"data:image/gif;base64,R0lGODlhAQABAIAAAAAAAP///yH5BAEAAAAALAAAAAABAAEAAAIBRAA7\" width=\"150\"/>, <img alt=\"ポムの樹 渋谷スペイン坂店\" class=\"js-cassette-img cpy-main-image\" data-img-id=\"95347624\" data-img-index=\"0\" data-original=\"https://tblg.k-img.com/restaurant/images/Rvw/95347/150x150_square_95347624.jpg\" height=\"150\" src=\"data:image/gif;base64,R0lGODlhAQABAIAAAAAAAP///yH5BAEAAAAALAAAAAABAAEAAAIBRAA7\" width=\"150\"/>, <img alt=\"ラケル 宮益坂店\" class=\"js-cassette-img cpy-main-image\" data-img-id=\"87809293\" data-img-index=\"0\" data-original=\"https://tblg.k-img.com/restaurant/images/Rvw/87809/150x150_square_87809293.jpg\" height=\"150\" src=\"data:image/gif;base64,R0lGODlhAQABAIAAAAAAAP///yH5BAEAAAAALAAAAAABAAEAAAIBRAA7\" width=\"150\"/>]\n"
     ]
    }
   ],
   "source": [
    "from selenium import webdriver\n",
    "from bs4 import BeautifulSoup\n",
    "import csv\n",
    "\n",
    "omulette_restaurant = []\n",
    "omulette_img = []\n",
    "\n",
    "\n",
    "def search(place_name):\n",
    "    driver = webdriver.Chrome()\n",
    "    driver.get(\"https://tabelog.com/\")\n",
    "    input_elem = driver.find_element_by_name(\"sa\")\n",
    "    input_elem.send_keys(place_name)\n",
    "    input_elem.click()\n",
    "\n",
    "    elem_search_word = driver.find_element_by_name(\"sk\")\n",
    "    elem_search_word.send_keys(\"オムライス\")\n",
    "    elem_search_btn = driver.find_element_by_id(\"js-global-search-btn\")\n",
    "    elem_search_btn.click()\n",
    "    page_source = driver.page_source\n",
    "\n",
    "    return page_source\n",
    "\n",
    "\n",
    "def extraction(page_source):\n",
    "    # page_source = search('渋谷')\n",
    "    bs = BeautifulSoup(page_source, \"html.parser\")\n",
    "\n",
    "    div_item_list = bs.select(\"ul.js-rstlist-info\")\n",
    "\n",
    "    for item_list in div_item_list[0].select(\"div.list-rst__wrap\"):\n",
    "        img_tags = item_list.select(\"img.js-cassette-img\")\n",
    "        img_tag = img_tags[0]\n",
    "        # print(img_tag)\n",
    "        omulette_img.append(img_tag)\n",
    "\n",
    "        item_name_tags = item_list.select(\"a.list-rst__rst-name-target\")\n",
    "        item_name_tag = item_name_tags[0]\n",
    "        # print(item_name_tag)\n",
    "        omulette_restaurant.append(item_name_tag)\n",
    "\n",
    "        div_item_list = bs.select(\"ul.js-rstlist-info\")\n",
    "    return omulette_restaurant, omulette_img\n",
    "\n",
    "\n",
    "omulette_restaurant, omulette_img = extraction(search(\"渋谷\"))\n",
    "\n"
   ]
  },
  {
   "cell_type": "code",
   "execution_count": null,
   "metadata": {},
   "outputs": [],
   "source": []
  },
  {
   "cell_type": "code",
   "execution_count": null,
   "metadata": {},
   "outputs": [],
   "source": []
  },
  {
   "cell_type": "markdown",
   "metadata": {},
   "source": [
    "##CSV化した場合"
   ]
  },
  {
   "cell_type": "code",
   "execution_count": null,
   "metadata": {},
   "outputs": [],
   "source": [
    "with open('main.csv', 'w') as f:\n",
    "\n",
    "    writer = csv.writer(f)\n",
    "\n",
    "    writer.writerows(omulette_restaurant)"
   ]
  },
  {
   "cell_type": "code",
   "execution_count": null,
   "metadata": {},
   "outputs": [],
   "source": [
    "with open('main.csv', encoding='UTF-8') as f:\n",
    "    reader = csv.reader(f)\n",
    "    for line in f:\n",
    "        print(line)\n",
    "        elements = line.split(', ')\n",
    "\n",
    "        for element in elements:\n",
    "#             print(element)"
   ]
  },
  {
   "cell_type": "code",
   "execution_count": null,
   "metadata": {},
   "outputs": [],
   "source": []
  },
  {
   "cell_type": "code",
   "execution_count": null,
   "metadata": {},
   "outputs": [],
   "source": []
  },
  {
   "cell_type": "markdown",
   "metadata": {},
   "source": [
    "##テスト用"
   ]
  },
  {
   "cell_type": "code",
   "execution_count": 1,
   "metadata": {},
   "outputs": [],
   "source": [
    "from selenium import webdriver\n",
    "from selenium.webdriver.chrome.options import Options\n",
    "from selenium.webdriver.support.ui import WebDriverWait\n",
    "from selenium.webdriver.support import expected_conditions as EC\n",
    "from selenium.webdriver.common.by import By\n",
    "from bs4 import BeautifulSoup\n",
    "import time\n",
    "import json\n",
    "\n",
    "\n",
    "\n",
    "options = Options()\n",
    "#options.add_argument('--headless')\n",
    "driver = webdriver.Chrome(options=options)\n",
    "\n",
    "driver.get(\"https://tabelog.com/\")\n",
    "WebDriverWait(driver, 10).until(\n",
    "        EC.title_contains(\"食べログ\")\n",
    "    )\n",
    "\n",
    "input_elem = driver.find_element_by_name(\"sa\")\n",
    "input_elem.send_keys('池袋')\n",
    "input_elem.click()\n",
    "elem_search_word = driver.find_element_by_name(\"sk\")\n",
    "elem_search_word.send_keys(\"オムライス\")\n",
    "elem_search_btn = driver.find_element_by_id(\"js-global-search-btn\")\n",
    "elem_search_btn.click()\n",
    "page_source = driver.page_source\n"
   ]
  },
  {
   "cell_type": "code",
   "execution_count": 2,
   "metadata": {},
   "outputs": [],
   "source": [
    "\n",
    "bs = BeautifulSoup(page_source, \"html.parser\")\n",
    "\n",
    "div_item_list = bs.select(\"ul.js-rstlist-info\")\n",
    "\n",
    "keys = []\n",
    "omulette_restaurant = []\n",
    "omulette_name = []\n",
    "omulette_img = []\n",
    "\n",
    "\n",
    "for item_list in div_item_list[0].select(\"div.list-rst__wrap\"):\n",
    "    img_tags = item_list.select(\"img.js-cassette-img\")\n",
    "    img = img_tags[0].get(\"data-original\")\n",
    "    omulette_img.append(img)\n",
    "    item_restaurant_tags = item_list.select(\"a.list-rst__rst-name-target\")\n",
    "    i = item_restaurant_tags[0].get(\"href\")\n",
    "    omulette_restaurant.append(i)\n",
    "    restaurant_name = item_list.find('a').text\n",
    "    omulette_name.append(restaurant_name)\n"
   ]
  },
  {
   "cell_type": "code",
   "execution_count": 3,
   "metadata": {},
   "outputs": [],
   "source": [
    "from flask import Flask, render_template, request, redirect\n",
    "\n",
    "\n",
    "app = Flask(__name__)\n",
    "\n",
    "\n",
    "@app.route(\"/\", methods=['POST', 'GET'])\n",
    "def send_text():\n",
    "    if request.method == \"GET\":\n",
    "        return render_template('index.html')\n",
    "\n"
   ]
  },
  {
   "cell_type": "code",
   "execution_count": 5,
   "metadata": {},
   "outputs": [
    {
     "ename": "AssertionError",
     "evalue": "View function mapping is overwriting an existing endpoint function: index",
     "output_type": "error",
     "traceback": [
      "\u001b[0;31m---------------------------------------------------------------------------\u001b[0m",
      "\u001b[0;31mAssertionError\u001b[0m                            Traceback (most recent call last)",
      "\u001b[0;32m<ipython-input-5-00fc991d4405>\u001b[0m in \u001b[0;36m<module>\u001b[0;34m\u001b[0m\n\u001b[0;32m----> 1\u001b[0;31m \u001b[0;34m@\u001b[0m\u001b[0mapp\u001b[0m\u001b[0;34m.\u001b[0m\u001b[0mroute\u001b[0m\u001b[0;34m(\u001b[0m\u001b[0;34m\"/display\"\u001b[0m\u001b[0;34m,\u001b[0m\u001b[0mmethods\u001b[0m\u001b[0;34m=\u001b[0m\u001b[0;34m[\u001b[0m\u001b[0;34m'POST'\u001b[0m\u001b[0;34m,\u001b[0m\u001b[0;34m'GET'\u001b[0m\u001b[0;34m]\u001b[0m\u001b[0;34m)\u001b[0m\u001b[0;34m\u001b[0m\u001b[0m\n\u001b[0m\u001b[1;32m      2\u001b[0m \u001b[0;32mdef\u001b[0m \u001b[0mindex\u001b[0m\u001b[0;34m(\u001b[0m\u001b[0;34m)\u001b[0m\u001b[0;34m:\u001b[0m\u001b[0;34m\u001b[0m\u001b[0m\n\u001b[1;32m      3\u001b[0m     \u001b[0ms\u001b[0m \u001b[0;34m=\u001b[0m \u001b[0;34m\"レストラン\"\u001b[0m\u001b[0;34m\u001b[0m\u001b[0m\n\u001b[1;32m      4\u001b[0m \u001b[0;34m\u001b[0m\u001b[0m\n\u001b[1;32m      5\u001b[0m     \u001b[0mrestaurants\u001b[0m \u001b[0;34m=\u001b[0m \u001b[0momulette_restaurant\u001b[0m\u001b[0;34m\u001b[0m\u001b[0m\n",
      "\u001b[0;32m~/Documents/Programming/python_tutorial/flask-tutorial/my_flask/lib/python3.7/site-packages/flask/app.py\u001b[0m in \u001b[0;36mdecorator\u001b[0;34m(f)\u001b[0m\n\u001b[1;32m   1248\u001b[0m         \u001b[0;32mdef\u001b[0m \u001b[0mdecorator\u001b[0m\u001b[0;34m(\u001b[0m\u001b[0mf\u001b[0m\u001b[0;34m)\u001b[0m\u001b[0;34m:\u001b[0m\u001b[0;34m\u001b[0m\u001b[0m\n\u001b[1;32m   1249\u001b[0m             \u001b[0mendpoint\u001b[0m \u001b[0;34m=\u001b[0m \u001b[0moptions\u001b[0m\u001b[0;34m.\u001b[0m\u001b[0mpop\u001b[0m\u001b[0;34m(\u001b[0m\u001b[0;34m'endpoint'\u001b[0m\u001b[0;34m,\u001b[0m \u001b[0;32mNone\u001b[0m\u001b[0;34m)\u001b[0m\u001b[0;34m\u001b[0m\u001b[0m\n\u001b[0;32m-> 1250\u001b[0;31m             \u001b[0mself\u001b[0m\u001b[0;34m.\u001b[0m\u001b[0madd_url_rule\u001b[0m\u001b[0;34m(\u001b[0m\u001b[0mrule\u001b[0m\u001b[0;34m,\u001b[0m \u001b[0mendpoint\u001b[0m\u001b[0;34m,\u001b[0m \u001b[0mf\u001b[0m\u001b[0;34m,\u001b[0m \u001b[0;34m**\u001b[0m\u001b[0moptions\u001b[0m\u001b[0;34m)\u001b[0m\u001b[0;34m\u001b[0m\u001b[0m\n\u001b[0m\u001b[1;32m   1251\u001b[0m             \u001b[0;32mreturn\u001b[0m \u001b[0mf\u001b[0m\u001b[0;34m\u001b[0m\u001b[0m\n\u001b[1;32m   1252\u001b[0m         \u001b[0;32mreturn\u001b[0m \u001b[0mdecorator\u001b[0m\u001b[0;34m\u001b[0m\u001b[0m\n",
      "\u001b[0;32m~/Documents/Programming/python_tutorial/flask-tutorial/my_flask/lib/python3.7/site-packages/flask/app.py\u001b[0m in \u001b[0;36mwrapper_func\u001b[0;34m(self, *args, **kwargs)\u001b[0m\n\u001b[1;32m     64\u001b[0m                 \u001b[0;34m'database models and everything related at a central place '\u001b[0m\u001b[0;34m\u001b[0m\u001b[0m\n\u001b[1;32m     65\u001b[0m                 'before the application starts serving requests.')\n\u001b[0;32m---> 66\u001b[0;31m         \u001b[0;32mreturn\u001b[0m \u001b[0mf\u001b[0m\u001b[0;34m(\u001b[0m\u001b[0mself\u001b[0m\u001b[0;34m,\u001b[0m \u001b[0;34m*\u001b[0m\u001b[0margs\u001b[0m\u001b[0;34m,\u001b[0m \u001b[0;34m**\u001b[0m\u001b[0mkwargs\u001b[0m\u001b[0;34m)\u001b[0m\u001b[0;34m\u001b[0m\u001b[0m\n\u001b[0m\u001b[1;32m     67\u001b[0m     \u001b[0;32mreturn\u001b[0m \u001b[0mupdate_wrapper\u001b[0m\u001b[0;34m(\u001b[0m\u001b[0mwrapper_func\u001b[0m\u001b[0;34m,\u001b[0m \u001b[0mf\u001b[0m\u001b[0;34m)\u001b[0m\u001b[0;34m\u001b[0m\u001b[0m\n\u001b[1;32m     68\u001b[0m \u001b[0;34m\u001b[0m\u001b[0m\n",
      "\u001b[0;32m~/Documents/Programming/python_tutorial/flask-tutorial/my_flask/lib/python3.7/site-packages/flask/app.py\u001b[0m in \u001b[0;36madd_url_rule\u001b[0;34m(self, rule, endpoint, view_func, provide_automatic_options, **options)\u001b[0m\n\u001b[1;32m   1219\u001b[0m             \u001b[0;32mif\u001b[0m \u001b[0mold_func\u001b[0m \u001b[0;32mis\u001b[0m \u001b[0;32mnot\u001b[0m \u001b[0;32mNone\u001b[0m \u001b[0;32mand\u001b[0m \u001b[0mold_func\u001b[0m \u001b[0;34m!=\u001b[0m \u001b[0mview_func\u001b[0m\u001b[0;34m:\u001b[0m\u001b[0;34m\u001b[0m\u001b[0m\n\u001b[1;32m   1220\u001b[0m                 raise AssertionError('View function mapping is overwriting an '\n\u001b[0;32m-> 1221\u001b[0;31m                                      'existing endpoint function: %s' % endpoint)\n\u001b[0m\u001b[1;32m   1222\u001b[0m             \u001b[0mself\u001b[0m\u001b[0;34m.\u001b[0m\u001b[0mview_functions\u001b[0m\u001b[0;34m[\u001b[0m\u001b[0mendpoint\u001b[0m\u001b[0;34m]\u001b[0m \u001b[0;34m=\u001b[0m \u001b[0mview_func\u001b[0m\u001b[0;34m\u001b[0m\u001b[0m\n\u001b[1;32m   1223\u001b[0m \u001b[0;34m\u001b[0m\u001b[0m\n",
      "\u001b[0;31mAssertionError\u001b[0m: View function mapping is overwriting an existing endpoint function: index"
     ]
    }
   ],
   "source": [
    "@app.route(\"/display\",methods=['POST','GET'])\n",
    "def index():\n",
    "    s = \"レストラン\"\n",
    "\n",
    "    restaurants = omulette_restaurant\n",
    "    images = omulette_img\n",
    "    names = omulette_name\n",
    "    \n",
    "    return render_template('index.html', s=s, restaurants=restaurants, images=images, names=names)\n",
    "    \n",
    "\n",
    "app.run()"
   ]
  },
  {
   "cell_type": "code",
   "execution_count": null,
   "metadata": {},
   "outputs": [],
   "source": []
  },
  {
   "cell_type": "code",
   "execution_count": 1,
   "metadata": {},
   "outputs": [],
   "source": [
    "keys = ['1','2','3','4','5']\n",
    "omulette_name = ['a','b','c','d','e','f']\n",
    "omulette_restaurant = ['q','w','e','r','t']\n",
    "omulette_img = ['d','d','d','d','d']"
   ]
  },
  {
   "cell_type": "code",
   "execution_count": 2,
   "metadata": {},
   "outputs": [],
   "source": [
    "dic = dict(zip(keys,omulette_name))"
   ]
  },
  {
   "cell_type": "code",
   "execution_count": 4,
   "metadata": {},
   "outputs": [
    {
     "name": "stdout",
     "output_type": "stream",
     "text": [
      "[{'1': 'a', '2': 'b', '3': 'c', '4': 'd', '5': 'e'}]\n"
     ]
    }
   ],
   "source": [
    "a = [dic]\n",
    "print(a)"
   ]
  },
  {
   "cell_type": "code",
   "execution_count": 1,
   "metadata": {},
   "outputs": [],
   "source": [
    "d = {  }\n",
    "\n",
    "d[\"three\"] = \"C\"\n",
    "d[\"fou\"]"
   ]
  },
  {
   "cell_type": "code",
   "execution_count": 2,
   "metadata": {},
   "outputs": [
    {
     "name": "stdout",
     "output_type": "stream",
     "text": [
      "{'three': 'C'}\n"
     ]
    }
   ],
   "source": [
    "print(d)"
   ]
  },
  {
   "cell_type": "code",
   "execution_count": null,
   "metadata": {},
   "outputs": [],
   "source": []
  }
 ],
 "metadata": {
  "kernelspec": {
   "display_name": "Python 3",
   "language": "python",
   "name": "python3"
  },
  "language_info": {
   "codemirror_mode": {
    "name": "ipython",
    "version": 3
   },
   "file_extension": ".py",
   "mimetype": "text/x-python",
   "name": "python",
   "nbconvert_exporter": "python",
   "pygments_lexer": "ipython3",
   "version": "3.7.0"
  }
 },
 "nbformat": 4,
 "nbformat_minor": 2
}
